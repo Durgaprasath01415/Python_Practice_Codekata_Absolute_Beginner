{
  "nbformat": 4,
  "nbformat_minor": 0,
  "metadata": {
    "colab": {
      "provenance": [],
      "authorship_tag": "ABX9TyNKM6cDjcEIq15XfJ4mJ8vr",
      "include_colab_link": true
    },
    "kernelspec": {
      "name": "python3",
      "display_name": "Python 3"
    },
    "language_info": {
      "name": "python"
    }
  },
  "cells": [
    {
      "cell_type": "markdown",
      "metadata": {
        "id": "view-in-github",
        "colab_type": "text"
      },
      "source": [
        "<a href=\"https://colab.research.google.com/github/Durgaprasath01415/Python_Practice_Codekata_Absolute_Beginner/blob/main/Searching.ipynb\" target=\"_parent\"><img src=\"https://colab.research.google.com/assets/colab-badge.svg\" alt=\"Open In Colab\"/></a>"
      ]
    },
    {
      "cell_type": "markdown",
      "source": [
        "1.Ramesh is a student and wants to find out if there is any other student in his class who has got the same marks as his, in maths. Help him to find out.\n",
        "\n",
        "Input Description:\n",
        "First line contains the number of students in the class followed by Ramesh’s mark. Second line contains the marks of all students in the class.\n",
        "\n",
        "Output Description:\n",
        "Index of student who got mark same as Ramesh’s mark. If no such mark exists, return -1.\n",
        "\n",
        "Sample Input :\n",
        "2 10\n",
        "1 2\n",
        "Sample Output :\n",
        "-1"
      ],
      "metadata": {
        "id": "bI9XjqcTMZP8"
      }
    },
    {
      "cell_type": "code",
      "execution_count": null,
      "metadata": {
        "colab": {
          "base_uri": "https://localhost:8080/"
        },
        "id": "kyKsL5mcJqW4",
        "outputId": "05468add-6719-4600-f6f1-849d9e2f7989"
      },
      "outputs": [
        {
          "output_type": "stream",
          "name": "stdout",
          "text": [
            "3 2\n",
            "1 2 3\n",
            "[2]\n",
            "1\n"
          ]
        }
      ],
      "source": [
        "N , Ramesh_mark = map(int,input().split())\n",
        "others_mark = list(map(int,input().split()))\n",
        "find = [i for i in others_mark if Ramesh_mark == i]\n",
        "print(find)\n",
        "if find:\n",
        "    print(others_mark.index(*find))\n",
        "else:\n",
        "    print(-1)"
      ]
    },
    {
      "cell_type": "markdown",
      "source": [
        "2.Prakash is bored and wants to spends his time. He starts rolling a die and observes the value that is shown. He rolls the dice N times and observes that just one number appears distinctly, all the others get repeated or does not appear at all. Find out which was the number that puzzled Prakash for sometime, after which he realised that it was just a coincidence.\n",
        "\n",
        "Constraints\n",
        "0 <   N  <= 100\n",
        "0 <= A[i] <= 100\n",
        "\n",
        "Input Description:\n",
        "The first line contains a positive integer N, denoting the size of the array. The second line contains N positive integers, denoting the face values that appeared when the die was rolled.\n",
        "\n",
        "Output Description:\n",
        "Print out the singly occurring number.\n",
        "\n",
        "Sample Input :\n",
        "5\n",
        "1 1 2 5 5\n",
        "Sample Output :\n",
        "2"
      ],
      "metadata": {
        "id": "1UAcY72gPZ4E"
      }
    },
    {
      "cell_type": "code",
      "source": [
        "n = int(input())\n",
        "die = list(map(int,input().split()))\n",
        "count =[i for i in die if die.count(i) < 2]\n",
        "print(*count)"
      ],
      "metadata": {
        "colab": {
          "base_uri": "https://localhost:8080/"
        },
        "id": "OK6fbnCCPZo1",
        "outputId": "4bf2c5ce-b571-4499-db75-d08aebc6aa88"
      },
      "execution_count": null,
      "outputs": [
        {
          "output_type": "stream",
          "name": "stdout",
          "text": [
            "5\n",
            "1 1 2 5 5\n",
            "2\n"
          ]
        }
      ]
    },
    {
      "cell_type": "markdown",
      "source": [
        "3.The prison warden at Central jail is given a tip-off that a prison inmate is planning an escape. The warden suspects a particular prisoner of planning an escape and wants to find out if he/she is present in his/her cell. The layout of the prison is modelled in a matrix with every cell of the matrix representing a prison cell. The matrix is filled with the prisoner ids at the corresponding cells. Find out whether the person the warden suspects is present in the prison or not.\n",
        "\n",
        "Input Description:\n",
        "First line contains the dimensions of the prison matrix, followed by the ids of prisoners as elements of the matrix. The third line contains the id to be searched.\n",
        "\n",
        "Output Description:\n",
        "(yes/no) whether the given element is present in the matrix or not.\n",
        "\n",
        "Sample Input :\n",
        "2 5\n",
        "2 3 0 7 1 5 3 4 1 8\n",
        "11\n",
        "Sample Output :\n",
        "no"
      ],
      "metadata": {
        "id": "5tPVuU9URXib"
      }
    },
    {
      "cell_type": "code",
      "source": [
        "n , m = map(int,input().split())\n",
        "ls = list(map(int,input().split()))\n",
        "prison = int(input())\n",
        "isPresent = [i for i in ls if prison == i]\n",
        "print(isPresent)\n",
        "if isPresent:\n",
        "    print('yes')\n",
        "else:\n",
        "    print('no')"
      ],
      "metadata": {
        "colab": {
          "base_uri": "https://localhost:8080/"
        },
        "id": "QsPMyFAvRW_N",
        "outputId": "a02d9c04-bf2f-41a5-8b1a-2ee5a3e5c2f8"
      },
      "execution_count": null,
      "outputs": [
        {
          "output_type": "stream",
          "name": "stdout",
          "text": [
            "1 10\n",
            "2 3 0 7 1 5 3 4 1 8\n",
            "2\n",
            "[2]\n",
            "yes\n"
          ]
        }
      ]
    },
    {
      "cell_type": "markdown",
      "source": [
        "4.Vasanth is working at GUVI. He has been taking leave often in the past couple of weeks and his manager, who also happens to be his friend, is worried that Vasanth might be exceeding his number of paid holidays, which might be a black mark in Vasanth monthly report. The manager analysis Vasanth’s attendance register and decides to warn him beforehand. The attendance register has a ‘P’ marked for present and an ‘A’ marked for absent. Vasanth will be blacklisted if his attendance falls below 25%. Your task is to help the manager find out whether Vasanth could be blacklisted or not.\n",
        "\n",
        "Input Description:\n",
        "First line contains the number of entries in the attendance register, followed by space separated values of attendance (‘P’ or ‘A’)\n",
        "\n",
        "Output Description:\n",
        "‘Blacklisted’ if attendance is below 25% ‘Not Blacklisted’ if attendance is above 25%\n",
        "\n",
        "Sample Input :\n",
        "5\n",
        "P P A A A\n",
        "Sample Output :\n",
        "Not Blacklisted"
      ],
      "metadata": {
        "id": "oDwzVDO1Ujrc"
      }
    },
    {
      "cell_type": "code",
      "source": [
        "n = int(input())\n",
        "attend = list(map(str,input().split()))\n",
        "count = attend.count('P')\n",
        "print(count)\n",
        "print(0.25 * count)\n",
        "if (0.25 * count) <= 0.25:\n",
        "    print('Blacklisted')\n",
        "else:\n",
        "    print('Not Blacklisted')"
      ],
      "metadata": {
        "colab": {
          "base_uri": "https://localhost:8080/"
        },
        "id": "XKDGjZGXUjjV",
        "outputId": "acaf04e8-77a6-415a-d933-ebb45e176196"
      },
      "execution_count": null,
      "outputs": [
        {
          "output_type": "stream",
          "name": "stdout",
          "text": [
            "4\n",
            "P P P A\n",
            "3\n",
            "0.75\n",
            "Blacklisted\n"
          ]
        }
      ]
    },
    {
      "cell_type": "markdown",
      "source": [
        "5.Indian politics has an interesting trend in history. A party which assumes that it is the undefeatable champion in elections has been defeated by other parties in many instances.You are a data analyst in the Election Commission. You are given a list containing a year and the party which won the election in that particular year. Your task is to analyse the trend and find the years in which, one party, which won many elections consecutively, was suddenly defeated by another.\n",
        "\n",
        "Input Description:\n",
        "Size of the array, followed by 2 arrays, one containing the year values and the other containing the party which won the election that year.\n",
        "\n",
        "Output Description:\n",
        "The year of transition from one party to another.\n",
        "\n",
        "Sample Input :\n",
        "5\n",
        "2004 1999 2019 2009 2014\n",
        "JDU JDU CON JDU CON\n",
        "Sample Output :\n",
        "2014"
      ],
      "metadata": {
        "id": "Hl2eXy7CYQTl"
      }
    },
    {
      "cell_type": "code",
      "source": [
        "n = int(input())\n",
        "year = list(map(int,input().split()))\n",
        "party = list(map(str,input().split()))\n",
        "dic = {}\n",
        "for i in range(len(party)):\n",
        "    dic[year[i]] = party[i]\n",
        "print(dic)\n",
        "dic_sort = list(sorted(dic.items(),key = lambda x:x[0]))\n",
        "print(dic_sort)\n",
        "for i in range(len(dic_sort)-1):\n",
        "    if dic_sort[i][1] != dic_sort[i+1][1]:\n",
        "        print(dic_sort[i+1][0])"
      ],
      "metadata": {
        "colab": {
          "base_uri": "https://localhost:8080/"
        },
        "id": "uvD3w4wcYQJT",
        "outputId": "f372b587-fb40-4a52-c721-560f2edfbdea"
      },
      "execution_count": null,
      "outputs": [
        {
          "output_type": "stream",
          "name": "stdout",
          "text": [
            "5\n",
            "2004 1999 2019 2009 2014\n",
            "JDU JDU CON JDU CON\n",
            "{2004: 'JDU', 1999: 'JDU', 2019: 'CON', 2009: 'JDU', 2014: 'CON'}\n",
            "[(1999, 'JDU'), (2004, 'JDU'), (2009, 'JDU'), (2014, 'CON'), (2019, 'CON')]\n",
            "2014\n"
          ]
        }
      ]
    },
    {
      "cell_type": "markdown",
      "source": [
        "6.Your old mobile phone gets broken and so you want to purchase a new smartphone and decide to go through all the online websites to find out which dealer has the best offer for a particular model. You document the prices of N dealers. Dealer ids start from 0 and go up to N.  Find out which dealer has the best price for you.\n",
        "\n",
        "Constraints:\n",
        "\n",
        "1 <= N <= 100\n",
        "\n",
        "1 <= A[] <= 100000\n",
        "\n",
        "Input Description:\n",
        "Number of dealers followed by the price offered by each dealer\n",
        "\n",
        "Output Description:\n",
        "Dealer offering the best price.\n",
        "\n",
        "Sample Input :\n",
        "3\n",
        "10000 11200 12030\n",
        "Sample Output :\n",
        "Dealer0"
      ],
      "metadata": {
        "id": "JPwl8vUJfu78"
      }
    },
    {
      "cell_type": "code",
      "source": [
        "n = int(input())\n",
        "price = list(map(int,input().split()))\n",
        "best_price = price[0]\n",
        "index = 0\n",
        "for i in range(len(price)):\n",
        "    if price[i] < best_price:\n",
        "        best_price = price[i]\n",
        "        index = i\n",
        "print(\"Dealer\"+str(index))"
      ],
      "metadata": {
        "colab": {
          "base_uri": "https://localhost:8080/"
        },
        "id": "bfQ6QsSffuzN",
        "outputId": "f289c435-5957-4853-8d37-fe079c98d812"
      },
      "execution_count": null,
      "outputs": [
        {
          "output_type": "stream",
          "name": "stdout",
          "text": [
            "3\n",
            "10000 11200 12030\n",
            "Dealer0\n"
          ]
        }
      ]
    },
    {
      "cell_type": "markdown",
      "source": [
        "7.Ria is always fascinated by the number 2. She always wants to know who came second in a race, the second person to set foot on the moon and so on. She is given a list of numbers and asked to find the maximum. As always, she reports the second highest number as the maximum because according to her, 2 is higher than 1. Find out which was the number that Ria would have reported, given a list of N numbers.\n",
        "\n",
        "Input Description:\n",
        "Size of the array followed by the elements of the array.\n",
        "\n",
        "Output Description:\n",
        "Second largest element of the array.\n",
        "\n",
        "Sample Input :\n",
        "10\n",
        "1 9 8 7 6 5 2 3 4 10\n",
        "Sample Output :\n",
        "9"
      ],
      "metadata": {
        "id": "AgG7Gqv2i8NP"
      }
    },
    {
      "cell_type": "code",
      "source": [
        "n = int(input())\n",
        "ls = list(map(int,input().split()))\n",
        "highest = ls[0]\n",
        "sec_highest = ls[1]\n",
        "for i in ls:\n",
        "  if highest < i:\n",
        "    sec_highest = highest\n",
        "    highest = i\n",
        "  elif sec_highest < i:\n",
        "    sec_highest = i\n",
        "print(sec_highest)"
      ],
      "metadata": {
        "colab": {
          "base_uri": "https://localhost:8080/"
        },
        "id": "2PZfh7Khi8HW",
        "outputId": "e995005d-6256-42de-ff92-f5a997cd1210"
      },
      "execution_count": null,
      "outputs": [
        {
          "output_type": "stream",
          "name": "stdout",
          "text": [
            "10\n",
            "1 9 8 7 6 5 2 3 4 10\n",
            "9\n"
          ]
        }
      ]
    },
    {
      "cell_type": "code",
      "source": [
        "n = int(input())\n",
        "ls = list(map(int,input().split()))\n",
        "sorted_ls = sorted(ls)\n",
        "print(sorted_ls[len(ls)-2])"
      ],
      "metadata": {
        "colab": {
          "base_uri": "https://localhost:8080/"
        },
        "id": "vf0TPYDzpsMW",
        "outputId": "85b7a04d-2445-4328-a998-2ee05312ec4d"
      },
      "execution_count": null,
      "outputs": [
        {
          "output_type": "stream",
          "name": "stdout",
          "text": [
            "10\n",
            "1 9 8 7 6 5 2 3 4 10\n",
            "9\n"
          ]
        }
      ]
    },
    {
      "cell_type": "markdown",
      "source": [
        "8.Rajesh and Ram are having a conflict on the maximum marks that they have scored in all the exams conducted in the past year. The one having scored the maximum gets a treat from the other. They decide to go through their test papers and record their highest marks. You are Rajesh’s best friend and as he has tutions to attend, he gives you all his test papers and asks you to find out the maximum marks that he has scored among all the marks in all exams. He promises you a treat if he wins the bet with Ram. Help Rajesh find out his highest marks.\n",
        "\n",
        "Constraints:\n",
        "\n",
        "1 <= N <= 10\n",
        "\n",
        "0 <= A[] <= 100\n",
        "\n",
        "\n",
        "Input Description:\n",
        "First line contains count of marks. Next line is the list of marks obtained by Rajesh.\n",
        "\n",
        "Output Description:\n",
        "Highest marks obtained by Rajesh.\n",
        "\n",
        "Sample Input :\n",
        "3\n",
        "82 96 72\n",
        "Sample Output :\n",
        "96"
      ],
      "metadata": {
        "id": "nekqXTAlp9WT"
      }
    },
    {
      "cell_type": "code",
      "source": [
        "n = input()\n",
        "marks = list(map(int,input().split()))\n",
        "print(max(marks))"
      ],
      "metadata": {
        "colab": {
          "base_uri": "https://localhost:8080/"
        },
        "id": "4WSUYs5Jp9IW",
        "outputId": "0233bd96-5b40-422a-e861-0d8c54dbbbc8"
      },
      "execution_count": null,
      "outputs": [
        {
          "output_type": "stream",
          "name": "stdout",
          "text": [
            "3\n",
            "82 96 72\n",
            "96\n"
          ]
        }
      ]
    },
    {
      "cell_type": "markdown",
      "source": [
        "11.Ram and Sita are playing a game. There are N rounds for the game and the results are tabulated in a table of dimensions N x N. A ‘0’ in the table implies that Ram has won the game, while a ‘1’ denotes that Sita has won the game.You must compute the number of times Ram and Sita have won the game, individually.\n",
        "\n",
        "Note : Elements in table can only be either 1 or 0.\n",
        "\n",
        "Input Description:\n",
        "First line contains two space separated integers M,N denoting the size of the 2d matrix . Then in the next lines are the space separated values of the matrix mat[ ] [ ] . Constraints: 1<=M,N<=50 ,0<=mat[][]<=1\n",
        "\n",
        "Output Description:\n",
        "The output will be the number of 0s and number of 1s, displayed separately.\n",
        "\n",
        "Sample Input :\n",
        "1 3\n",
        "1 1 1\n",
        "Sample Output :\n",
        "RAM: 0\n",
        "SITA: 3"
      ],
      "metadata": {
        "id": "7uaIh3oCxIkV"
      }
    },
    {
      "cell_type": "code",
      "source": [
        "n ,m = map(int,input().split())\n",
        "round_win = list(map(int,input().split()))\n",
        "ram = 0\n",
        "sita = 0\n",
        "for i in range(n):\n",
        "  for j in range(m):\n",
        "    if round_win[j] == 0:\n",
        "      ram += 1\n",
        "    else:\n",
        "      sita += 1\n",
        "print(\"RAM: \"+str(ram))\n",
        "print(\"SITA: \"+str(sita))"
      ],
      "metadata": {
        "colab": {
          "base_uri": "https://localhost:8080/"
        },
        "id": "YO0UzrOCxIa3",
        "outputId": "d59d8e83-49f8-443f-d86c-c38ba304465e"
      },
      "execution_count": 11,
      "outputs": [
        {
          "output_type": "stream",
          "name": "stdout",
          "text": [
            "2 4\n",
            "1 0 1 0\n",
            "RAM: 4\n",
            "SITA: 4\n"
          ]
        }
      ]
    },
    {
      "cell_type": "code",
      "source": [
        "n ,m = map(int,input().split())\n",
        "round_win = list(map(int,input().split()))\n",
        "ram = 0\n",
        "sita = 0\n",
        "for i in range(n*m):\n",
        "  if round_win[i] == 0:\n",
        "    ram += 1\n",
        "  else:\n",
        "    sita += 1\n",
        "print(\"RAM: \"+str(ram))\n",
        "print(\"SITA: \"+str(sita))"
      ],
      "metadata": {
        "id": "R1WqjJscyMlU"
      },
      "execution_count": null,
      "outputs": []
    }
  ]
}