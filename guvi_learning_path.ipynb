{
  "nbformat": 4,
  "nbformat_minor": 0,
  "metadata": {
    "colab": {
      "provenance": [],
      "authorship_tag": "ABX9TyOa3uANsF/eKYKFENO7oXxV",
      "include_colab_link": true
    },
    "kernelspec": {
      "name": "python3",
      "display_name": "Python 3"
    },
    "language_info": {
      "name": "python"
    }
  },
  "cells": [
    {
      "cell_type": "markdown",
      "metadata": {
        "id": "view-in-github",
        "colab_type": "text"
      },
      "source": [
        "<a href=\"https://colab.research.google.com/github/Durgaprasath01415/Python_Practice_Codekata_Absolute_Beginner/blob/main/guvi_learning_path.ipynb\" target=\"_parent\"><img src=\"https://colab.research.google.com/assets/colab-badge.svg\" alt=\"Open In Colab\"/></a>"
      ]
    },
    {
      "cell_type": "markdown",
      "source": [
        "1.You are given given task is to print whether array is ‘majestic’ or not.A ‘majsetic’ array is an array whose sum of first three number is equal to last three number.\n",
        "\n",
        "\n",
        "Input Description:\n",
        "You are given a number ‘n’,Next line contains ‘n’ space separated\n",
        "\n",
        "Output Description:\n",
        "Print 1 if array is majestic and 0 if it is not\n",
        "\n",
        "Sample Input :\n",
        "7\n",
        "1 2 3 4 6 0 0\n",
        "Sample Output :\n",
        "1"
      ],
      "metadata": {
        "id": "50zA1zBcjGWU"
      }
    },
    {
      "cell_type": "code",
      "execution_count": 1,
      "metadata": {
        "id": "s5_2Sx-bSLhh",
        "colab": {
          "base_uri": "https://localhost:8080/"
        },
        "outputId": "78827a61-d4d4-4c9a-fe3f-277a7b002a6d"
      },
      "outputs": [
        {
          "output_type": "stream",
          "name": "stdout",
          "text": [
            "7\n",
            "1 2 3 4 6 0 0\n",
            "1\n"
          ]
        }
      ],
      "source": [
        "n = input()\n",
        "nums = input()\n",
        "num_ls = list(map(int,nums.split()))\n",
        "first_three_sum = 0\n",
        "last_three_sum = 0\n",
        "for i in range(0,3):\n",
        "    first_three_sum += num_ls[i]\n",
        "for i in range(-3,0):\n",
        "    last_three_sum += num_ls[i]\n",
        "if first_three_sum == last_three_sum:\n",
        "  print(1)\n",
        "else:\n",
        "  print(0)"
      ]
    },
    {
      "cell_type": "markdown",
      "source": [
        "3.You are provided with a string ‘s’. Your task is to reverse the string using stack Data Structure.\n",
        "\n",
        "\n",
        "\n",
        "\n",
        "Input Description:\n",
        "You are given a string ‘s’.\n",
        "\n",
        "Output Description:\n",
        "Print the reverse string\n",
        "\n",
        "Sample Input :\n",
        "i am jsb\n",
        "Sample Output :\n",
        "jsb am i"
      ],
      "metadata": {
        "id": "ov5kJQ8gjXHZ"
      }
    },
    {
      "cell_type": "code",
      "source": [
        "s = input()\n",
        "spl = s.split()\n",
        "spl.reverse()\n",
        "print(*spl)"
      ],
      "metadata": {
        "colab": {
          "base_uri": "https://localhost:8080/"
        },
        "id": "k7PL7gv-jaFY",
        "outputId": "ee184369-a033-4b4c-bd22-e8935d40a01d"
      },
      "execution_count": 2,
      "outputs": [
        {
          "output_type": "stream",
          "name": "stdout",
          "text": [
            "i am jsb\n",
            "jsb am i\n"
          ]
        }
      ]
    },
    {
      "cell_type": "markdown",
      "source": [
        "4.You are given with a queue. Your task is to reverse the queue elements and print it.\n",
        "\n",
        "\n",
        "Input Description:\n",
        "You are given a number ‘n’,denoting size of queue, Next line contains s space separated numbers\n",
        "\n",
        "Output Description:\n",
        "Print the reversed queue.\n",
        "\n",
        "Sample Input :\n",
        "6\n",
        "1 2 3 4 5 6\n",
        "Sample Output :\n",
        "6 5 4 3 2 1"
      ],
      "metadata": {
        "id": "zWj2BRI3jgQI"
      }
    },
    {
      "cell_type": "code",
      "source": [
        "n = input()\n",
        "nums = input()\n",
        "num_ls = nums.split()\n",
        "num_ls.reverse()\n",
        "print(*num_ls)"
      ],
      "metadata": {
        "colab": {
          "base_uri": "https://localhost:8080/"
        },
        "id": "KqlrNr4pjkGt",
        "outputId": "12907348-d924-483f-b255-9ef29416bf6f"
      },
      "execution_count": 3,
      "outputs": [
        {
          "output_type": "stream",
          "name": "stdout",
          "text": [
            "6\n",
            "1 2 3 4 5 6\n",
            "6 5 4 3 2 1\n"
          ]
        }
      ]
    },
    {
      "cell_type": "markdown",
      "source": [
        "Given 2 numbers N and K followed by N elements, find the Kth smallest element.If the element cannot be found then print -1\n",
        "Input Size : N <= 100000\n",
        "Sample Testcase :\n",
        "INPUT\n",
        "5 2\n",
        "1 1 2 4 5\n",
        "OUTPUT\n",
        "2"
      ],
      "metadata": {
        "id": "kt8i_bZgmHDj"
      }
    },
    {
      "cell_type": "code",
      "source": [
        "n = input()\n",
        "no_of_ele = n[0]\n",
        "K = int(n[2])\n",
        "nums = input()\n",
        "num_ls = list(map(int,nums.split()))\n",
        "count = 0\n",
        "small = num_ls[0]\n",
        "smallest = num_ls[1]\n",
        "for i in range(len(num_ls)+1):\n",
        "  while count < K:\n",
        "    if i > smallest:\n",
        "        smallest = i\n",
        "    elif smallest > small:\n",
        "        smallest = small\n",
        "    elif smallest == small:\n",
        "        smallest = num_ls[i]\n",
        "    count += 1\n",
        "if count == K:\n",
        "  print(-1)\n",
        "else:\n",
        "  print(count)"
      ],
      "metadata": {
        "colab": {
          "base_uri": "https://localhost:8080/"
        },
        "id": "6iymBNz6mDma",
        "outputId": "141993ab-21fe-48f8-dcb5-4c0c9af87d46"
      },
      "execution_count": 25,
      "outputs": [
        {
          "output_type": "stream",
          "name": "stdout",
          "text": [
            "5 2\n",
            "1 1 2 4 5\n",
            "-1\n"
          ]
        }
      ]
    },
    {
      "cell_type": "code",
      "source": [
        "n_str = input()\n",
        "parts = n_str.split()\n",
        "if len(parts) == 2:\n",
        "    no_of_ele = int(parts[0])\n",
        "    K = int(parts[1])\n",
        "    nums = input()\n",
        "    num_ls = list(map(int, nums.split()))\n",
        "\n",
        "    if len(num_ls) == no_of_ele:\n",
        "        num_ls.sort()\n",
        "        if K <= len(num_ls):\n",
        "            print(*num_ls[:K])  # Print the first K smallest elements\n",
        "        else:\n",
        "            print(\"K is greater than the number of elements.\")\n",
        "    else:\n",
        "        print(\"Number of elements doesn't match the first input.\")\n",
        "else:\n",
        "    print(\"Invalid input format for n.\")"
      ],
      "metadata": {
        "colab": {
          "base_uri": "https://localhost:8080/"
        },
        "id": "Pjn3RVyyraqj",
        "outputId": "eabedc46-1555-4c7e-bd0f-3d21602afef9"
      },
      "execution_count": 27,
      "outputs": [
        {
          "output_type": "stream",
          "name": "stdout",
          "text": [
            "5 4\n",
            "1 1 1 1 5\n",
            "1 1 1 1\n"
          ]
        }
      ]
    },
    {
      "cell_type": "markdown",
      "source": [
        "9.You are given a number n,ranging from 1 to n. Out of which one number is missing. Your task is to print that missing number.\n",
        "\n",
        "\n",
        "Input Description:\n",
        "You are given a number ‘n’.\n",
        "\n",
        "Output Description:\n",
        "Print the missing number.\n",
        "\n",
        "Sample Input :\n",
        "5\n",
        "1 3 5 2\n",
        "Sample Output :\n",
        "4"
      ],
      "metadata": {
        "id": "ek4WwKjEt3fg"
      }
    },
    {
      "cell_type": "code",
      "source": [
        "n = int(input())\n",
        "nums = list(map(int,input().split()))\n",
        "nums_sum = sum(nums)\n",
        "n_sum = n * (n+1) // 2\n",
        "print(n_sum - nums_sum)"
      ],
      "metadata": {
        "colab": {
          "base_uri": "https://localhost:8080/"
        },
        "id": "FPX-9Y97tBNb",
        "outputId": "2db1010f-cada-47f8-9408-de50ec36799e"
      },
      "execution_count": 38,
      "outputs": [
        {
          "output_type": "stream",
          "name": "stdout",
          "text": [
            "5\n",
            "1 3 5 2\n",
            "11\n",
            "15\n",
            "4\n"
          ]
        }
      ]
    },
    {
      "cell_type": "markdown",
      "source": [
        "10.Given 2 numbers N,K and an array of N integers, find if the element K exists in the array.\n",
        "Input Size : N <= 100000\n",
        "Sample Testcase :\n",
        "INPUT\n",
        "5 2\n",
        "1 2 3 4 5\n",
        "OUTPUT\n",
        "yes\n",
        "HINT: Read about Binary Search"
      ],
      "metadata": {
        "id": "9vFZru0mykF9"
      }
    },
    {
      "cell_type": "code",
      "source": [
        "n = input()\n",
        "N = n[0]\n",
        "K = n[2]\n",
        "nums = list(map(int,input().split()))\n",
        "nums.sort()\n",
        "for i in nums:\n",
        "  if i is K:\n",
        "    print('yes')\n",
        "  else:\n",
        "    print('no')"
      ],
      "metadata": {
        "colab": {
          "base_uri": "https://localhost:8080/"
        },
        "id": "KAoVOiDxxNjs",
        "outputId": "7e7c1cfc-0333-491e-9184-f5682e0a7497"
      },
      "execution_count": 42,
      "outputs": [
        {
          "output_type": "stream",
          "name": "stdout",
          "text": [
            "5 2\n",
            "1 2 3 4 5\n",
            "no\n",
            "no\n",
            "no\n",
            "no\n",
            "no\n"
          ]
        }
      ]
    }
  ]
}