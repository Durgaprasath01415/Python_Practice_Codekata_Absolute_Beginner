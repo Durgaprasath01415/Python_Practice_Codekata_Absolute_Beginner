{
  "nbformat": 4,
  "nbformat_minor": 0,
  "metadata": {
    "colab": {
      "provenance": [],
      "authorship_tag": "ABX9TyOuSXWkqaOlt0tfV+PhTdUk",
      "include_colab_link": true
    },
    "kernelspec": {
      "name": "python3",
      "display_name": "Python 3"
    },
    "language_info": {
      "name": "python"
    }
  },
  "cells": [
    {
      "cell_type": "markdown",
      "metadata": {
        "id": "view-in-github",
        "colab_type": "text"
      },
      "source": [
        "<a href=\"https://colab.research.google.com/github/Durgaprasath01415/Python_Practice_Codekata_Absolute_Beginner/blob/main/Strings.ipynb\" target=\"_parent\"><img src=\"https://colab.research.google.com/assets/colab-badge.svg\" alt=\"Open In Colab\"/></a>"
      ]
    },
    {
      "cell_type": "markdown",
      "source": [
        "1.You are given a string.Your task is to print only the consonants present in the string without affecting the sentence spacings if present. If no consonants are present print -1\n",
        "\n",
        "\n",
        "Input Description:\n",
        "You are given a string ‘s’.\n",
        "\n",
        "Output Description:\n",
        "Print only consonants.\n",
        "\n",
        "Sample Input :\n",
        "I am shrey\n",
        "Sample Output :\n",
        " m shry"
      ],
      "metadata": {
        "id": "6G4J7r-jbRG9"
      }
    },
    {
      "cell_type": "code",
      "execution_count": null,
      "metadata": {
        "colab": {
          "base_uri": "https://localhost:8080/"
        },
        "id": "xpLLwontQTDt",
        "outputId": "5b5fe491-2a25-4961-953f-25105b267f11"
      },
      "outputs": [
        {
          "output_type": "stream",
          "name": "stdout",
          "text": [
            "I am shrey \n",
            "{0: 'I', 1: ' ', 2: 'a', 3: 'm', 4: ' ', 5: 's', 6: 'h', 7: 'r', 8: 'e', 9: 'y', 10: ' '}\n",
            "{0: 'I', 1: ' ', 2: 'a', 3: 'm', 4: ' ', 5: 's', 6: 'h', 7: 'r', 8: 'e', 9: 'y', 10: ' '}\n",
            "I am shrey  m shry \n"
          ]
        }
      ],
      "source": [
        "s = input()\n",
        "vo = ['a','e','i','o','u','A','E','I','O','U']\n",
        "c_ls = {}\n",
        "index = 0\n",
        "for c in s:\n",
        "  for ch in c:\n",
        "    c_ls.setdefault(index,ch)\n",
        "    if ch in vo:\n",
        "      c_ls[index] = ch\n",
        "    index += 1\n",
        "print(c_ls)\n",
        "temp_ls = c_ls.copy()\n",
        "print(temp_ls)\n",
        "index = 0\n",
        "for i in temp_ls.values():\n",
        "  print(i,end='')\n",
        "  if i in vo:\n",
        "    c_ls.pop(index)\n",
        "  index += 1\n",
        "p = (c_ls.values())\n",
        "print(''.join(p))"
      ]
    },
    {
      "cell_type": "markdown",
      "source": [
        "**After Gemini optimized Result refactored the above code**"
      ],
      "metadata": {
        "id": "8o7lRv0qrFv0"
      }
    },
    {
      "cell_type": "code",
      "source": [
        "s = input()\n",
        "vo = ['a','e','i','o','u','A','E','I','O','U']\n",
        "consonants = []\n",
        "vo_index = {}\n",
        "index = 0\n",
        "for index , c  in enumerate(s):\n",
        "  if c in vo:\n",
        "    vo_index[index] = c\n",
        "  else:\n",
        "    consonants.append(c)\n",
        "print(vo_index)\n",
        "p = consonants\n",
        "print(''.join(p))"
      ],
      "metadata": {
        "colab": {
          "base_uri": "https://localhost:8080/"
        },
        "id": "a567aZmHfRmv",
        "outputId": "a94299dc-33da-40d8-dcd6-d73d29ff3c83"
      },
      "execution_count": null,
      "outputs": [
        {
          "output_type": "stream",
          "name": "stdout",
          "text": [
            "I am shrey\n",
            "{0: 'I', 2: 'a', 8: 'e'}\n",
            " m shry\n"
          ]
        }
      ]
    },
    {
      "cell_type": "markdown",
      "source": [
        "**Gemini optimized Result**"
      ],
      "metadata": {
        "id": "Qg09QC8BrDrS"
      }
    },
    {
      "cell_type": "code",
      "source": [
        "s = input()\n",
        "vowels = set(['a', 'e', 'i', 'o', 'u', 'A', 'E', 'I', 'O', 'U'])\n",
        "consonants = []\n",
        "vowel_indices = {}\n",
        "\n",
        "for index, char in enumerate(s):\n",
        "    if char in vowels:\n",
        "        vowel_indices[index] = char\n",
        "    else:\n",
        "        consonants.append(char)\n",
        "\n",
        "print(vowel_indices)\n",
        "print(vowel_indices.copy())\n",
        "\n",
        "result_all = \"\"\n",
        "for char in vowel_indices.values():\n",
        "    print(char, end='')\n",
        "    result_all += char\n",
        "\n",
        "print()\n",
        "result_consonants = \"\".join(consonants)\n",
        "print(result_consonants)"
      ],
      "metadata": {
        "colab": {
          "base_uri": "https://localhost:8080/"
        },
        "id": "pGrWZQoZWFBB",
        "outputId": "417ad727-6185-4294-e6fe-f948622273ce"
      },
      "execution_count": null,
      "outputs": [
        {
          "output_type": "stream",
          "name": "stdout",
          "text": [
            "I am shrey\n",
            "{0: 'I', 2: 'a', 8: 'e'}\n",
            "{0: 'I', 2: 'a', 8: 'e'}\n",
            "Iae\n",
            " m shry\n"
          ]
        }
      ]
    },
    {
      "cell_type": "markdown",
      "source": [
        "2.You are given a number with duplicate digits your task is to remove the immediate duplicate digits and print the result\n",
        "\n",
        "\n",
        "Input Description:\n",
        "You are given a long string of digits\n",
        "\n",
        "Output Description:\n",
        "Print the desired result print -1 if result length is 0\n",
        "\n",
        "Sample Input :\n",
        "1331\n",
        "Sample Output :\n",
        "11"
      ],
      "metadata": {
        "id": "1gtwPh-bj3WI"
      }
    },
    {
      "cell_type": "code",
      "source": [
        "n = input()\n",
        "digit = {}\n",
        "for index,num in enumerate(n):\n",
        "  digit[index] = num\n",
        "print(digit)\n",
        "index = 0\n",
        "d = digit.copy()\n",
        "for dig in d.keys():\n",
        "  print(dig)\n",
        "  if dig in digit:\n",
        "    if (dig+1) < len(d) and digit[dig] == digit[dig+1]:\n",
        "      digit.pop(dig)\n",
        "      digit.pop(dig+1)\n",
        "result = digit.values()\n",
        "print(result)\n",
        "if len(result) == 0:\n",
        "  print(-1)\n",
        "else:\n",
        "  print(''.join(result))"
      ],
      "metadata": {
        "colab": {
          "base_uri": "https://localhost:8080/"
        },
        "id": "sszHJ52Uj1aq",
        "outputId": "4445fc12-f2b5-4159-b753-fcd0dc10fa9e"
      },
      "execution_count": null,
      "outputs": [
        {
          "output_type": "stream",
          "name": "stdout",
          "text": [
            "1331\n",
            "{0: '1', 1: '3', 2: '3', 3: '1'}\n",
            "0\n",
            "1\n",
            "2\n",
            "3\n",
            "dict_values(['1', '1'])\n",
            "11\n"
          ]
        }
      ]
    },
    {
      "cell_type": "markdown",
      "source": [
        "**Gemini optimized Result**"
      ],
      "metadata": {
        "id": "oEt7Bhdiq1kQ"
      }
    },
    {
      "cell_type": "code",
      "source": [
        "n = input()\n",
        "digits = {}\n",
        "for index, num_str in enumerate(n):\n",
        "    digits[index] = num_str\n",
        "print(digits)\n",
        "\n",
        "processed_indices = set()\n",
        "result_list = []\n",
        "\n",
        "for index in sorted(digits.keys()):\n",
        "    if index not in processed_indices:\n",
        "        if (index + 1) in digits and digits[index] == digits[index + 1]:\n",
        "            processed_indices.add(index)\n",
        "            processed_indices.add(index + 1)\n",
        "        else:\n",
        "            result_list.append(digits[index])\n",
        "\n",
        "print(result_list)\n",
        "if not result_list:\n",
        "    print(-1)\n",
        "else:\n",
        "    print(\"\".join(result_list))"
      ],
      "metadata": {
        "colab": {
          "base_uri": "https://localhost:8080/"
        },
        "id": "XsQHKjbBq0mv",
        "outputId": "cbb32714-f8c0-4a5b-ac68-eaa6f88a9535"
      },
      "execution_count": null,
      "outputs": [
        {
          "output_type": "stream",
          "name": "stdout",
          "text": [
            "1331\n",
            "{0: '1', 1: '3', 2: '3', 3: '1'}\n",
            "['1', '1']\n",
            "11\n"
          ]
        }
      ]
    },
    {
      "cell_type": "markdown",
      "source": [
        "5.Given a string S, print 'yes' if it has a vowel in it else print 'no'.\n",
        "Sample Testcase :\n",
        "INPUT\n",
        "codekata\n",
        "OUTPUT\n",
        "yes"
      ],
      "metadata": {
        "id": "fVqoBX9quQcS"
      }
    },
    {
      "cell_type": "code",
      "source": [
        "s = input()\n",
        "vowels = ['a','e','i','o','u','A','E','I','O','U']\n",
        "exist = False\n",
        "for c in s:\n",
        "  if c in vowels:\n",
        "    exist = True\n",
        "    break\n",
        "if exist:\n",
        "  print('yes')\n",
        "else:\n",
        "  print('no')"
      ],
      "metadata": {
        "colab": {
          "base_uri": "https://localhost:8080/"
        },
        "id": "udbv35C5tGL0",
        "outputId": "c5b50636-d06c-4e0a-af5d-e97d3b39f997"
      },
      "execution_count": null,
      "outputs": [
        {
          "output_type": "stream",
          "name": "stdout",
          "text": [
            "codekata\n",
            "yes\n"
          ]
        }
      ]
    },
    {
      "cell_type": "markdown",
      "source": [
        "6.Given a string S, print it after changing the middle element to * (if the length of the string is even, change the 2 middle elements to *).\n",
        "Sample Testcase :\n",
        "INPUT\n",
        "hello\n",
        "OUTPUT\n",
        "he*lo"
      ],
      "metadata": {
        "id": "InepAXTtwCRo"
      }
    },
    {
      "cell_type": "code",
      "source": [
        "s = input()\n",
        "length_s = len(s)\n",
        "print(length_s)\n",
        "mid = 0\n",
        "if length_s % 2 == 0:\n",
        "  mid = len(s) //2\n",
        "  print(mid)\n",
        "  s = s[:mid-1] + '**' + s[mid+1:]\n",
        "  print(s)\n",
        "else:\n",
        "  mid = len(s) //2\n",
        "  print(mid)\n",
        "  s = s[:mid] + '*' + s[mid+1:]\n",
        "  print(s)"
      ],
      "metadata": {
        "colab": {
          "base_uri": "https://localhost:8080/"
        },
        "id": "AKo3q6wIwA72",
        "outputId": "c5bc657c-f1fc-4c92-cf0d-a53983dda946"
      },
      "execution_count": null,
      "outputs": [
        {
          "output_type": "stream",
          "name": "stdout",
          "text": [
            "hello\n",
            "5\n",
            "2\n",
            "he*lo\n"
          ]
        }
      ]
    },
    {
      "cell_type": "markdown",
      "source": [
        "7.Write a program to get a string S, Type of conversion (1 - Convert to Lowercase, 2 - Convert to Uppercase) T, and integer P . Convert the case of the letters in the positions which are multiples of P.(1 based indexing).\n",
        "\n",
        "\n",
        "Input Description:\n",
        "Given a string S, Type of conversion T, and integer P\n",
        "\n",
        "Output Description:\n",
        "Convert the case of the letters and print the string\n",
        "\n",
        "Sample Input :\n",
        "ProFiLe\n",
        "1\n",
        "2\n",
        "Sample Output :\n",
        "Profile"
      ],
      "metadata": {
        "id": "AA3Z96P-P9Fo"
      }
    },
    {
      "cell_type": "code",
      "source": [
        "s = input()\n",
        "T = input()\n",
        "P = int(input())\n",
        "pos = P\n",
        "res = ''\n",
        "for c in range(len(s)):\n",
        "    if (c+1) % P == 0:\n",
        "        if T == '1':\n",
        "            res += s[c].lower()\n",
        "        elif T == '2':\n",
        "            res += s[c].upper()\n",
        "    else:\n",
        "      res += s[c]\n",
        "print(res)"
      ],
      "metadata": {
        "colab": {
          "base_uri": "https://localhost:8080/"
        },
        "id": "PIGjVt8qNUjv",
        "outputId": "e61adde9-eb93-43ef-ce43-e77a8cccd3d1"
      },
      "execution_count": null,
      "outputs": [
        {
          "output_type": "stream",
          "name": "stdout",
          "text": [
            "ProFiLe\n",
            "1\n",
            "2\n",
            "Profile\n"
          ]
        }
      ]
    },
    {
      "cell_type": "markdown",
      "source": [
        "8.You are given two numbers. Your task is to multiply the two numbers and print the answer.\n",
        "\n",
        "\n",
        "Input Description:\n",
        "You are given two numbers ‘n’ and ‘m’.\n",
        "\n",
        "Output Description:\n",
        "Print the multiplied answer\n",
        "\n",
        "Sample Input :\n",
        "99999 99998\n",
        "Sample Output :\n",
        "9999700002"
      ],
      "metadata": {
        "id": "8rMrJl1mQezB"
      }
    },
    {
      "cell_type": "code",
      "source": [
        "num = input()\n",
        "n , m = map(int,num.split())\n",
        "print(n * m)"
      ],
      "metadata": {
        "colab": {
          "base_uri": "https://localhost:8080/"
        },
        "id": "f38Q33F5QWV9",
        "outputId": "243845eb-077a-4554-bc3c-0a901d726bf2"
      },
      "execution_count": null,
      "outputs": [
        {
          "output_type": "stream",
          "name": "stdout",
          "text": [
            "99999 99998\n",
            "9999700002\n"
          ]
        }
      ]
    },
    {
      "cell_type": "markdown",
      "source": [
        "9.Radha newly learnt about palindromic strings.A palindromic string is a string which is same when read from left to right and also from right to left.Help her in implementing the logic.\n",
        "\n",
        "Input Description:\n",
        "You are given a String ‘s’\n",
        "\n",
        "Output Description:\n",
        "Print 1 if String is palindrome or 0 if not\n",
        "\n",
        "Sample Input :\n",
        "NITIN\n",
        "Sample Output :\n",
        "1"
      ],
      "metadata": {
        "id": "54FUn8blSv83"
      }
    },
    {
      "cell_type": "code",
      "source": [
        "s = input()\n",
        "start_index = 0\n",
        "end_index = len(s) - 1\n",
        "is_palidrome = False\n",
        "for i in range(len(s)):\n",
        "  if s[start_index] == s[end_index]:\n",
        "    start_index += 1\n",
        "    end_index -= 1\n",
        "    is_palidrome = True\n",
        "  else:\n",
        "    is_palidrome = False\n",
        "    break\n",
        "if is_palidrome:\n",
        "  print('1')\n",
        "else:\n",
        "  print('0')"
      ],
      "metadata": {
        "colab": {
          "base_uri": "https://localhost:8080/"
        },
        "id": "MxM4J3WFSvgn",
        "outputId": "9cc948de-2d27-4240-d378-2aafcf59a41d"
      },
      "execution_count": null,
      "outputs": [
        {
          "output_type": "stream",
          "name": "stdout",
          "text": [
            "NITIN\n",
            "1\n"
          ]
        }
      ]
    },
    {
      "cell_type": "markdown",
      "source": [
        "10.Jennyfer is fond of strings. She wants to read the character from right to left (reverse the string), so she wants you to design a suitable algorithm which satisfy her desire.\n",
        "\n",
        "\n",
        "Input Description:\n",
        "Enter the string ‘s’\n",
        "\n",
        "Output Description:\n",
        "Print the string from characters right to left.\n",
        "\n",
        "Sample Input :\n",
        "jennyfer\n",
        "Sample Output :\n",
        "Refynnej"
      ],
      "metadata": {
        "id": "btOHwRBXVFoG"
      }
    },
    {
      "cell_type": "code",
      "source": [
        "s = input()\n",
        "print(s[::-1].capitalize())"
      ],
      "metadata": {
        "colab": {
          "base_uri": "https://localhost:8080/"
        },
        "id": "zrpdI6USUeOb",
        "outputId": "d1432a6a-50fb-444b-bf39-8856a5942f2c"
      },
      "execution_count": null,
      "outputs": [
        {
          "output_type": "stream",
          "name": "stdout",
          "text": [
            "jennyfer\n",
            "Refynnej\n"
          ]
        }
      ]
    },
    {
      "cell_type": "markdown",
      "source": [
        "12.Given a string S, print it without using semicolon in your program.\n",
        "Sample Testcase :\n",
        "INPUT\n",
        "hello world\n",
        "OUTPUT\n",
        "hello world"
      ],
      "metadata": {
        "id": "7pJWAypSXKEI"
      }
    },
    {
      "cell_type": "code",
      "source": [
        "s = input()\n",
        "print(s.strip(';'))"
      ],
      "metadata": {
        "colab": {
          "base_uri": "https://localhost:8080/"
        },
        "id": "Tl1EN74wW6Tw",
        "outputId": "e1275806-8ae0-463d-aa0e-9f59aa7579cb"
      },
      "execution_count": null,
      "outputs": [
        {
          "output_type": "stream",
          "name": "stdout",
          "text": [
            "hello world\n",
            "hello world\n"
          ]
        }
      ]
    },
    {
      "cell_type": "markdown",
      "source": [
        "14.You are given a string ‘s’. Your task is to find whether string is beautiful or not. A string is said to be beautiful whenever string is made up of only three characters. All the three characters must be distinct. Print true if string is beautiful and false when it is not beautiful\n",
        "\n",
        "\n",
        "Input Description:\n",
        "You are given a string\n",
        "\n",
        "Output Description:\n",
        "Print ‘1’ when string is beautiful and ‘0’ when it is not\n",
        "\n",
        "Sample Input :\n",
        "Aab\n",
        "Sample Output :\n",
        "1"
      ],
      "metadata": {
        "id": "SVgwAfdoaV4L"
      }
    },
    {
      "cell_type": "code",
      "source": [
        "s = input()\n",
        "c_set = set()\n",
        "is_wonder = False\n",
        "\n",
        "for c in s:\n",
        "  c_set.add(c)\n",
        "\n",
        "if len(c_set) == 3:\n",
        "    is_wonder = True\n",
        "else:\n",
        "    is_wonder = False\n",
        "\n",
        "if is_wonder:\n",
        "    print('1')\n",
        "else:\n",
        "    print('0')"
      ],
      "metadata": {
        "id": "sIhKnNogabI8"
      },
      "execution_count": null,
      "outputs": []
    },
    {
      "cell_type": "markdown",
      "source": [
        "15.You are given a string. You have to print “Wonder” if the string is wonderful and -1 if it is not. A wonderful string is a string,which is made up of exactly 3 different characters.\n",
        "\n",
        "\n",
        "Input Description:\n",
        "You are given a string\n",
        "\n",
        "Output Description:\n",
        "Print “Wonder” if it is wonderful and -1 if it is not\n",
        "\n",
        "Sample Input :\n",
        "aabbcc\n",
        "aabbccdefgh\n",
        "Sample Output :\n",
        "Wonder\n",
        "-1"
      ],
      "metadata": {
        "id": "cawLV3kkZ28A"
      }
    },
    {
      "cell_type": "code",
      "source": [
        "s = input()\n",
        "c_set = set()\n",
        "is_wonder = False\n",
        "\n",
        "for c in s:\n",
        "  c_set.add(c)\n",
        "\n",
        "if len(c_set) == 3:\n",
        "    is_wonder = True\n",
        "else:\n",
        "    is_wonder = False\n",
        "\n",
        "if is_wonder:\n",
        "    print('Wonder')\n",
        "else:\n",
        "    print('-1')"
      ],
      "metadata": {
        "colab": {
          "base_uri": "https://localhost:8080/"
        },
        "id": "GUlB9R9iS4ic",
        "outputId": "549c37b9-b9e3-48d2-c39a-94692dfd7e8d"
      },
      "execution_count": 22,
      "outputs": [
        {
          "output_type": "stream",
          "name": "stdout",
          "text": [
            "aabbcc\n",
            "Wonder\n"
          ]
        }
      ]
    },
    {
      "cell_type": "markdown",
      "source": [
        "16.Given a string 'S' print the sum of weight of the String. A weight of character is defined as the ASCII value of corresponding character.\n",
        "\n",
        "\n",
        "Input Description:\n",
        "You are given a string ‘s’\n",
        "\n",
        "Output Description:\n",
        "Print weight\n",
        "\n",
        "Sample Input :\n",
        "abc\n",
        "Sample Output :\n",
        "294"
      ],
      "metadata": {
        "id": "OiQczENrbgOS"
      }
    },
    {
      "cell_type": "code",
      "source": [
        "s = input()\n",
        "sum = 0\n",
        "for c in s:\n",
        "    sum += ord(c)\n",
        "print(sum)"
      ],
      "metadata": {
        "colab": {
          "base_uri": "https://localhost:8080/"
        },
        "id": "-_K48sgeU5k2",
        "outputId": "63f2e259-cfda-4213-9f92-cf9fc9e8c511"
      },
      "execution_count": 23,
      "outputs": [
        {
          "output_type": "stream",
          "name": "stdout",
          "text": [
            "abc\n",
            "294\n"
          ]
        }
      ]
    },
    {
      "cell_type": "markdown",
      "source": [
        "17.You are given a string ‘s’.Your task is to print the string in the order they are present and then sum of digits.\n",
        "\n",
        "\n",
        "Input Description:\n",
        "You are given a string ‘s’.\n",
        "\n",
        "Output Description:\n",
        "Print the string and then at last sum of all the digits\n",
        "\n",
        "Sample Input :\n",
        "AC30BD40\n",
        "Sample Output :\n",
        "ACBD7"
      ],
      "metadata": {
        "id": "E6KXE3O0cBWM"
      }
    },
    {
      "cell_type": "code",
      "source": [
        "s = input()\n",
        "st = ''\n",
        "sum = 0\n",
        "\n",
        "for c in s:\n",
        "    if c.isalpha():\n",
        "      st += c\n",
        "    else:\n",
        "      sum += int(c)\n",
        "print(st+str(sum))"
      ],
      "metadata": {
        "colab": {
          "base_uri": "https://localhost:8080/"
        },
        "id": "-UOaAdZSctF8",
        "outputId": "5ff88796-3048-494d-d551-d9c81226acce"
      },
      "execution_count": 34,
      "outputs": [
        {
          "output_type": "stream",
          "name": "stdout",
          "text": [
            "AC30BD40\n",
            "ACBD7\n"
          ]
        }
      ]
    },
    {
      "cell_type": "markdown",
      "source": [
        "18.Ria is a 5 year old girl. Her mother wants to teach her how to sort words in the same order that they appear in a dictionary. She decides to write a program to sort a given set of strings based on their alphabetical order. Help Ria’s mother to complete the program.\n",
        "\n",
        "\n",
        "\n",
        "\n",
        "Input Description:\n",
        "A set of N strings\n",
        "\n",
        "Output Description:\n",
        "Alphabetically sorted set of strings\n",
        "\n",
        "Sample Input :\n",
        "3\n",
        "InfinityWar EndGame Avengers\n",
        "\n",
        "Sample Output :\n",
        "Avengers EndGame InfinityWar"
      ],
      "metadata": {
        "id": "ANfe8mVheBhm"
      }
    },
    {
      "cell_type": "code",
      "source": [
        "n = input()\n",
        "s = input()\n",
        "\n",
        "s = sorted(s.split())\n",
        "print(*s)"
      ],
      "metadata": {
        "colab": {
          "base_uri": "https://localhost:8080/"
        },
        "id": "fp-BsJ_EeBv0",
        "outputId": "8f23656e-41da-478d-e044-5f26394b66c3"
      },
      "execution_count": 37,
      "outputs": [
        {
          "output_type": "stream",
          "name": "stdout",
          "text": [
            "3\n",
            "InfinityWar EndGame Avengers\n",
            "Avengers EndGame InfinityWar\n"
          ]
        }
      ]
    },
    {
      "cell_type": "markdown",
      "source": [
        "21.Indian PAN card issuing authority have found some fake PAN cards. They have hired you so that you can validate PAN card for them. Your task is to develop a suitable algorithm which could check if pan is valid or not\n",
        "\n",
        "1)Pan must have uppercase letters only.\n",
        "\n",
        "2)It must be of 10 character only\n",
        "\n",
        "3)From index 1 to 5 all must be letters(A-Z),last index must be letter\n",
        "\n",
        "4)Rest all must be integer Starting from 1\n",
        "\n",
        "\n",
        "Input Description:\n",
        "You are given a input string which indicates the PAN number\n",
        "\n",
        "Output Description:\n",
        "Print 'pan' if it is valid PAN number, else print 'not pan'\n",
        "\n",
        "Sample Input :\n",
        "HXTPS2142R\n",
        "Sample Output :\n",
        "pan"
      ],
      "metadata": {
        "id": "pGtFZ7yZheEi"
      }
    },
    {
      "cell_type": "code",
      "source": [
        "s = input()\n"
      ],
      "metadata": {
        "id": "WjuZCTKZhd3x"
      },
      "execution_count": null,
      "outputs": []
    }
  ]
}