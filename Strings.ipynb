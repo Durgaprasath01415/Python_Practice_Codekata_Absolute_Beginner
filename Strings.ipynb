{
  "nbformat": 4,
  "nbformat_minor": 0,
  "metadata": {
    "colab": {
      "provenance": [],
      "authorship_tag": "ABX9TyNb1lAKU8eRPwyWW0YgcBCT",
      "include_colab_link": true
    },
    "kernelspec": {
      "name": "python3",
      "display_name": "Python 3"
    },
    "language_info": {
      "name": "python"
    }
  },
  "cells": [
    {
      "cell_type": "markdown",
      "metadata": {
        "id": "view-in-github",
        "colab_type": "text"
      },
      "source": [
        "<a href=\"https://colab.research.google.com/github/Durgaprasath01415/Python_Practice_Codekata_Absolute_Beginner/blob/main/Strings.ipynb\" target=\"_parent\"><img src=\"https://colab.research.google.com/assets/colab-badge.svg\" alt=\"Open In Colab\"/></a>"
      ]
    },
    {
      "cell_type": "markdown",
      "source": [
        "1.You are given a string.Your task is to print only the consonants present in the string without affecting the sentence spacings if present. If no consonants are present print -1\n",
        "\n",
        "\n",
        "Input Description:\n",
        "You are given a string ‘s’.\n",
        "\n",
        "Output Description:\n",
        "Print only consonants.\n",
        "\n",
        "Sample Input :\n",
        "I am shrey\n",
        "Sample Output :\n",
        " m shry"
      ],
      "metadata": {
        "id": "6G4J7r-jbRG9"
      }
    },
    {
      "cell_type": "code",
      "execution_count": null,
      "metadata": {
        "colab": {
          "base_uri": "https://localhost:8080/"
        },
        "id": "xpLLwontQTDt",
        "outputId": "5b5fe491-2a25-4961-953f-25105b267f11"
      },
      "outputs": [
        {
          "output_type": "stream",
          "name": "stdout",
          "text": [
            "I am shrey \n",
            "{0: 'I', 1: ' ', 2: 'a', 3: 'm', 4: ' ', 5: 's', 6: 'h', 7: 'r', 8: 'e', 9: 'y', 10: ' '}\n",
            "{0: 'I', 1: ' ', 2: 'a', 3: 'm', 4: ' ', 5: 's', 6: 'h', 7: 'r', 8: 'e', 9: 'y', 10: ' '}\n",
            "I am shrey  m shry \n"
          ]
        }
      ],
      "source": [
        "s = input()\n",
        "vo = ['a','e','i','o','u','A','E','I','O','U']\n",
        "c_ls = {}\n",
        "index = 0\n",
        "for c in s:\n",
        "  for ch in c:\n",
        "    c_ls.setdefault(index,ch)\n",
        "    if ch in vo:\n",
        "      c_ls[index] = ch\n",
        "    index += 1\n",
        "print(c_ls)\n",
        "temp_ls = c_ls.copy()\n",
        "print(temp_ls)\n",
        "index = 0\n",
        "for i in temp_ls.values():\n",
        "  print(i,end='')\n",
        "  if i in vo:\n",
        "    c_ls.pop(index)\n",
        "  index += 1\n",
        "p = (c_ls.values())\n",
        "print(''.join(p))"
      ]
    },
    {
      "cell_type": "markdown",
      "source": [
        "**After Gemini optimized Result refactored the above code**"
      ],
      "metadata": {
        "id": "8o7lRv0qrFv0"
      }
    },
    {
      "cell_type": "code",
      "source": [
        "s = input()\n",
        "vo = ['a','e','i','o','u','A','E','I','O','U']\n",
        "consonants = []\n",
        "vo_index = {}\n",
        "index = 0\n",
        "for index , c  in enumerate(s):\n",
        "  if c in vo:\n",
        "    vo_index[index] = c\n",
        "  else:\n",
        "    consonants.append(c)\n",
        "print(vo_index)\n",
        "p = consonants\n",
        "print(''.join(p))"
      ],
      "metadata": {
        "colab": {
          "base_uri": "https://localhost:8080/"
        },
        "id": "a567aZmHfRmv",
        "outputId": "a94299dc-33da-40d8-dcd6-d73d29ff3c83"
      },
      "execution_count": null,
      "outputs": [
        {
          "output_type": "stream",
          "name": "stdout",
          "text": [
            "I am shrey\n",
            "{0: 'I', 2: 'a', 8: 'e'}\n",
            " m shry\n"
          ]
        }
      ]
    },
    {
      "cell_type": "markdown",
      "source": [
        "**Gemini optimized Result**"
      ],
      "metadata": {
        "id": "Qg09QC8BrDrS"
      }
    },
    {
      "cell_type": "code",
      "source": [
        "s = input()\n",
        "vowels = set(['a', 'e', 'i', 'o', 'u', 'A', 'E', 'I', 'O', 'U'])\n",
        "consonants = []\n",
        "vowel_indices = {}\n",
        "\n",
        "for index, char in enumerate(s):\n",
        "    if char in vowels:\n",
        "        vowel_indices[index] = char\n",
        "    else:\n",
        "        consonants.append(char)\n",
        "\n",
        "print(vowel_indices)\n",
        "print(vowel_indices.copy())\n",
        "\n",
        "result_all = \"\"\n",
        "for char in vowel_indices.values():\n",
        "    print(char, end='')\n",
        "    result_all += char\n",
        "\n",
        "print()\n",
        "result_consonants = \"\".join(consonants)\n",
        "print(result_consonants)"
      ],
      "metadata": {
        "colab": {
          "base_uri": "https://localhost:8080/"
        },
        "id": "pGrWZQoZWFBB",
        "outputId": "417ad727-6185-4294-e6fe-f948622273ce"
      },
      "execution_count": null,
      "outputs": [
        {
          "output_type": "stream",
          "name": "stdout",
          "text": [
            "I am shrey\n",
            "{0: 'I', 2: 'a', 8: 'e'}\n",
            "{0: 'I', 2: 'a', 8: 'e'}\n",
            "Iae\n",
            " m shry\n"
          ]
        }
      ]
    },
    {
      "cell_type": "markdown",
      "source": [
        "2.You are given a number with duplicate digits your task is to remove the immediate duplicate digits and print the result\n",
        "\n",
        "\n",
        "Input Description:\n",
        "You are given a long string of digits\n",
        "\n",
        "Output Description:\n",
        "Print the desired result print -1 if result length is 0\n",
        "\n",
        "Sample Input :\n",
        "1331\n",
        "Sample Output :\n",
        "11"
      ],
      "metadata": {
        "id": "1gtwPh-bj3WI"
      }
    },
    {
      "cell_type": "code",
      "source": [
        "n = input()\n",
        "digit = {}\n",
        "for index,num in enumerate(n):\n",
        "  digit[index] = num\n",
        "print(digit)\n",
        "index = 0\n",
        "d = digit.copy()\n",
        "for dig in d.keys():\n",
        "  print(dig)\n",
        "  if dig in digit:\n",
        "    if (dig+1) < len(d) and digit[dig] == digit[dig+1]:\n",
        "      digit.pop(dig)\n",
        "      digit.pop(dig+1)\n",
        "result = digit.values()\n",
        "print(result)\n",
        "if len(result) == 0:\n",
        "  print(-1)\n",
        "else:\n",
        "  print(''.join(result))"
      ],
      "metadata": {
        "colab": {
          "base_uri": "https://localhost:8080/"
        },
        "id": "sszHJ52Uj1aq",
        "outputId": "4445fc12-f2b5-4159-b753-fcd0dc10fa9e"
      },
      "execution_count": null,
      "outputs": [
        {
          "output_type": "stream",
          "name": "stdout",
          "text": [
            "1331\n",
            "{0: '1', 1: '3', 2: '3', 3: '1'}\n",
            "0\n",
            "1\n",
            "2\n",
            "3\n",
            "dict_values(['1', '1'])\n",
            "11\n"
          ]
        }
      ]
    },
    {
      "cell_type": "markdown",
      "source": [
        "**Gemini optimized Result**"
      ],
      "metadata": {
        "id": "oEt7Bhdiq1kQ"
      }
    },
    {
      "cell_type": "code",
      "source": [
        "n = input()\n",
        "digits = {}\n",
        "for index, num_str in enumerate(n):\n",
        "    digits[index] = num_str\n",
        "print(digits)\n",
        "\n",
        "processed_indices = set()\n",
        "result_list = []\n",
        "\n",
        "for index in sorted(digits.keys()):\n",
        "    if index not in processed_indices:\n",
        "        if (index + 1) in digits and digits[index] == digits[index + 1]:\n",
        "            processed_indices.add(index)\n",
        "            processed_indices.add(index + 1)\n",
        "        else:\n",
        "            result_list.append(digits[index])\n",
        "\n",
        "print(result_list)\n",
        "if not result_list:\n",
        "    print(-1)\n",
        "else:\n",
        "    print(\"\".join(result_list))"
      ],
      "metadata": {
        "colab": {
          "base_uri": "https://localhost:8080/"
        },
        "id": "XsQHKjbBq0mv",
        "outputId": "cbb32714-f8c0-4a5b-ac68-eaa6f88a9535"
      },
      "execution_count": null,
      "outputs": [
        {
          "output_type": "stream",
          "name": "stdout",
          "text": [
            "1331\n",
            "{0: '1', 1: '3', 2: '3', 3: '1'}\n",
            "['1', '1']\n",
            "11\n"
          ]
        }
      ]
    },
    {
      "cell_type": "markdown",
      "source": [
        "5.Given a string S, print 'yes' if it has a vowel in it else print 'no'.\n",
        "Sample Testcase :\n",
        "INPUT\n",
        "codekata\n",
        "OUTPUT\n",
        "yes"
      ],
      "metadata": {
        "id": "fVqoBX9quQcS"
      }
    },
    {
      "cell_type": "code",
      "source": [
        "s = input()\n",
        "vowels = ['a','e','i','o','u','A','E','I','O','U']\n",
        "exist = False\n",
        "for c in s:\n",
        "  if c in vowels:\n",
        "    exist = True\n",
        "    break\n",
        "if exist:\n",
        "  print('yes')\n",
        "else:\n",
        "  print('no')"
      ],
      "metadata": {
        "colab": {
          "base_uri": "https://localhost:8080/"
        },
        "id": "udbv35C5tGL0",
        "outputId": "c5b50636-d06c-4e0a-af5d-e97d3b39f997"
      },
      "execution_count": null,
      "outputs": [
        {
          "output_type": "stream",
          "name": "stdout",
          "text": [
            "codekata\n",
            "yes\n"
          ]
        }
      ]
    },
    {
      "cell_type": "markdown",
      "source": [
        "6.Given a string S, print it after changing the middle element to * (if the length of the string is even, change the 2 middle elements to *).\n",
        "Sample Testcase :\n",
        "INPUT\n",
        "hello\n",
        "OUTPUT\n",
        "he*lo"
      ],
      "metadata": {
        "id": "InepAXTtwCRo"
      }
    },
    {
      "cell_type": "code",
      "source": [
        "s = input()\n",
        "length_s = len(s)\n",
        "print(length_s)\n",
        "mid = 0\n",
        "if length_s % 2 == 0:\n",
        "  mid = len(s) //2\n",
        "  print(mid)\n",
        "  s = s[:mid-1] + '**' + s[mid+1:]\n",
        "  print(s)\n",
        "else:\n",
        "  mid = len(s) //2\n",
        "  print(mid)\n",
        "  s = s[:mid] + '*' + s[mid+1:]\n",
        "  print(s)"
      ],
      "metadata": {
        "colab": {
          "base_uri": "https://localhost:8080/"
        },
        "id": "AKo3q6wIwA72",
        "outputId": "c5bc657c-f1fc-4c92-cf0d-a53983dda946"
      },
      "execution_count": null,
      "outputs": [
        {
          "output_type": "stream",
          "name": "stdout",
          "text": [
            "hello\n",
            "5\n",
            "2\n",
            "he*lo\n"
          ]
        }
      ]
    },
    {
      "cell_type": "markdown",
      "source": [
        "7.Write a program to get a string S, Type of conversion (1 - Convert to Lowercase, 2 - Convert to Uppercase) T, and integer P . Convert the case of the letters in the positions which are multiples of P.(1 based indexing).\n",
        "\n",
        "\n",
        "Input Description:\n",
        "Given a string S, Type of conversion T, and integer P\n",
        "\n",
        "Output Description:\n",
        "Convert the case of the letters and print the string\n",
        "\n",
        "Sample Input :\n",
        "ProFiLe\n",
        "1\n",
        "2\n",
        "Sample Output :\n",
        "Profile"
      ],
      "metadata": {
        "id": "AA3Z96P-P9Fo"
      }
    },
    {
      "cell_type": "code",
      "source": [
        "s = input()\n",
        "T = input()\n",
        "P = int(input())\n",
        "pos = P\n",
        "res = ''\n",
        "for c in range(len(s)):\n",
        "    if (c+1) % P == 0:\n",
        "        if T == '1':\n",
        "            res += s[c].lower()\n",
        "        elif T == '2':\n",
        "            res += s[c].upper()\n",
        "    else:\n",
        "      res += s[c]\n",
        "print(res)"
      ],
      "metadata": {
        "colab": {
          "base_uri": "https://localhost:8080/"
        },
        "id": "PIGjVt8qNUjv",
        "outputId": "e61adde9-eb93-43ef-ce43-e77a8cccd3d1"
      },
      "execution_count": null,
      "outputs": [
        {
          "output_type": "stream",
          "name": "stdout",
          "text": [
            "ProFiLe\n",
            "1\n",
            "2\n",
            "Profile\n"
          ]
        }
      ]
    },
    {
      "cell_type": "markdown",
      "source": [
        "8.You are given two numbers. Your task is to multiply the two numbers and print the answer.\n",
        "\n",
        "\n",
        "Input Description:\n",
        "You are given two numbers ‘n’ and ‘m’.\n",
        "\n",
        "Output Description:\n",
        "Print the multiplied answer\n",
        "\n",
        "Sample Input :\n",
        "99999 99998\n",
        "Sample Output :\n",
        "9999700002"
      ],
      "metadata": {
        "id": "8rMrJl1mQezB"
      }
    },
    {
      "cell_type": "code",
      "source": [
        "num = input()\n",
        "n , m = map(int,num.split())\n",
        "print(n * m)"
      ],
      "metadata": {
        "colab": {
          "base_uri": "https://localhost:8080/"
        },
        "id": "f38Q33F5QWV9",
        "outputId": "243845eb-077a-4554-bc3c-0a901d726bf2"
      },
      "execution_count": null,
      "outputs": [
        {
          "output_type": "stream",
          "name": "stdout",
          "text": [
            "99999 99998\n",
            "9999700002\n"
          ]
        }
      ]
    },
    {
      "cell_type": "markdown",
      "source": [
        "9.Radha newly learnt about palindromic strings.A palindromic string is a string which is same when read from left to right and also from right to left.Help her in implementing the logic.\n",
        "\n",
        "Input Description:\n",
        "You are given a String ‘s’\n",
        "\n",
        "Output Description:\n",
        "Print 1 if String is palindrome or 0 if not\n",
        "\n",
        "Sample Input :\n",
        "NITIN\n",
        "Sample Output :\n",
        "1"
      ],
      "metadata": {
        "id": "54FUn8blSv83"
      }
    },
    {
      "cell_type": "code",
      "source": [
        "s = input()\n",
        "start_index = 0\n",
        "end_index = len(s) - 1\n",
        "is_palidrome = False\n",
        "for i in range(len(s)):\n",
        "  if s[start_index] == s[end_index]:\n",
        "    start_index += 1\n",
        "    end_index -= 1\n",
        "    is_palidrome = True\n",
        "  else:\n",
        "    is_palidrome = False\n",
        "    break\n",
        "if is_palidrome:\n",
        "  print('1')\n",
        "else:\n",
        "  print('0')"
      ],
      "metadata": {
        "colab": {
          "base_uri": "https://localhost:8080/"
        },
        "id": "MxM4J3WFSvgn",
        "outputId": "9cc948de-2d27-4240-d378-2aafcf59a41d"
      },
      "execution_count": null,
      "outputs": [
        {
          "output_type": "stream",
          "name": "stdout",
          "text": [
            "NITIN\n",
            "1\n"
          ]
        }
      ]
    },
    {
      "cell_type": "markdown",
      "source": [
        "10.Jennyfer is fond of strings. She wants to read the character from right to left (reverse the string), so she wants you to design a suitable algorithm which satisfy her desire.\n",
        "\n",
        "\n",
        "Input Description:\n",
        "Enter the string ‘s’\n",
        "\n",
        "Output Description:\n",
        "Print the string from characters right to left.\n",
        "\n",
        "Sample Input :\n",
        "jennyfer\n",
        "Sample Output :\n",
        "Refynnej"
      ],
      "metadata": {
        "id": "btOHwRBXVFoG"
      }
    },
    {
      "cell_type": "code",
      "source": [
        "s = input()\n",
        "print(s[::-1].capitalize())"
      ],
      "metadata": {
        "colab": {
          "base_uri": "https://localhost:8080/"
        },
        "id": "zrpdI6USUeOb",
        "outputId": "d1432a6a-50fb-444b-bf39-8856a5942f2c"
      },
      "execution_count": null,
      "outputs": [
        {
          "output_type": "stream",
          "name": "stdout",
          "text": [
            "jennyfer\n",
            "Refynnej\n"
          ]
        }
      ]
    },
    {
      "cell_type": "markdown",
      "source": [
        "12.Given a string S, print it without using semicolon in your program.\n",
        "Sample Testcase :\n",
        "INPUT\n",
        "hello world\n",
        "OUTPUT\n",
        "hello world"
      ],
      "metadata": {
        "id": "7pJWAypSXKEI"
      }
    },
    {
      "cell_type": "code",
      "source": [
        "s = input()\n",
        "print(s.strip(';'))"
      ],
      "metadata": {
        "colab": {
          "base_uri": "https://localhost:8080/"
        },
        "id": "Tl1EN74wW6Tw",
        "outputId": "e1275806-8ae0-463d-aa0e-9f59aa7579cb"
      },
      "execution_count": null,
      "outputs": [
        {
          "output_type": "stream",
          "name": "stdout",
          "text": [
            "hello world\n",
            "hello world\n"
          ]
        }
      ]
    },
    {
      "cell_type": "markdown",
      "source": [
        "14.You are given a string ‘s’. Your task is to find whether string is beautiful or not. A string is said to be beautiful whenever string is made up of only three characters. All the three characters must be distinct. Print true if string is beautiful and false when it is not beautiful\n",
        "\n",
        "\n",
        "Input Description:\n",
        "You are given a string\n",
        "\n",
        "Output Description:\n",
        "Print ‘1’ when string is beautiful and ‘0’ when it is not\n",
        "\n",
        "Sample Input :\n",
        "Aab\n",
        "Sample Output :\n",
        "1"
      ],
      "metadata": {
        "id": "SVgwAfdoaV4L"
      }
    },
    {
      "cell_type": "code",
      "source": [
        "s = input()\n",
        "c_set = set()\n",
        "is_wonder = False\n",
        "\n",
        "for c in s:\n",
        "  c_set.add(c)\n",
        "\n",
        "if len(c_set) == 3:\n",
        "    is_wonder = True\n",
        "else:\n",
        "    is_wonder = False\n",
        "\n",
        "if is_wonder:\n",
        "    print('1')\n",
        "else:\n",
        "    print('0')"
      ],
      "metadata": {
        "id": "sIhKnNogabI8"
      },
      "execution_count": null,
      "outputs": []
    },
    {
      "cell_type": "markdown",
      "source": [
        "15.You are given a string. You have to print “Wonder” if the string is wonderful and -1 if it is not. A wonderful string is a string,which is made up of exactly 3 different characters.\n",
        "\n",
        "\n",
        "Input Description:\n",
        "You are given a string\n",
        "\n",
        "Output Description:\n",
        "Print “Wonder” if it is wonderful and -1 if it is not\n",
        "\n",
        "Sample Input :\n",
        "aabbcc\n",
        "aabbccdefgh\n",
        "Sample Output :\n",
        "Wonder\n",
        "-1"
      ],
      "metadata": {
        "id": "cawLV3kkZ28A"
      }
    },
    {
      "cell_type": "code",
      "source": [
        "s = input()\n",
        "c_set = set()\n",
        "is_wonder = False\n",
        "\n",
        "for c in s:\n",
        "  c_set.add(c)\n",
        "\n",
        "if len(c_set) == 3:\n",
        "    is_wonder = True\n",
        "else:\n",
        "    is_wonder = False\n",
        "\n",
        "if is_wonder:\n",
        "    print('Wonder')\n",
        "else:\n",
        "    print('-1')"
      ],
      "metadata": {
        "colab": {
          "base_uri": "https://localhost:8080/"
        },
        "id": "GUlB9R9iS4ic",
        "outputId": "549c37b9-b9e3-48d2-c39a-94692dfd7e8d"
      },
      "execution_count": null,
      "outputs": [
        {
          "output_type": "stream",
          "name": "stdout",
          "text": [
            "aabbcc\n",
            "Wonder\n"
          ]
        }
      ]
    },
    {
      "cell_type": "markdown",
      "source": [
        "16.Given a string 'S' print the sum of weight of the String. A weight of character is defined as the ASCII value of corresponding character.\n",
        "\n",
        "\n",
        "Input Description:\n",
        "You are given a string ‘s’\n",
        "\n",
        "Output Description:\n",
        "Print weight\n",
        "\n",
        "Sample Input :\n",
        "abc\n",
        "Sample Output :\n",
        "294"
      ],
      "metadata": {
        "id": "OiQczENrbgOS"
      }
    },
    {
      "cell_type": "code",
      "source": [
        "s = input()\n",
        "sum = 0\n",
        "for c in s:\n",
        "    sum += ord(c)\n",
        "print(sum)"
      ],
      "metadata": {
        "colab": {
          "base_uri": "https://localhost:8080/"
        },
        "id": "-_K48sgeU5k2",
        "outputId": "63f2e259-cfda-4213-9f92-cf9fc9e8c511"
      },
      "execution_count": null,
      "outputs": [
        {
          "output_type": "stream",
          "name": "stdout",
          "text": [
            "abc\n",
            "294\n"
          ]
        }
      ]
    },
    {
      "cell_type": "markdown",
      "source": [
        "17.You are given a string ‘s’.Your task is to print the string in the order they are present and then sum of digits.\n",
        "\n",
        "\n",
        "Input Description:\n",
        "You are given a string ‘s’.\n",
        "\n",
        "Output Description:\n",
        "Print the string and then at last sum of all the digits\n",
        "\n",
        "Sample Input :\n",
        "AC30BD40\n",
        "Sample Output :\n",
        "ACBD7"
      ],
      "metadata": {
        "id": "E6KXE3O0cBWM"
      }
    },
    {
      "cell_type": "code",
      "source": [
        "s = input()\n",
        "st = ''\n",
        "sum = 0\n",
        "\n",
        "for c in s:\n",
        "    if c.isalpha():\n",
        "      st += c\n",
        "    else:\n",
        "      sum += int(c)\n",
        "print(st+str(sum))"
      ],
      "metadata": {
        "colab": {
          "base_uri": "https://localhost:8080/"
        },
        "id": "-UOaAdZSctF8",
        "outputId": "5ff88796-3048-494d-d551-d9c81226acce"
      },
      "execution_count": null,
      "outputs": [
        {
          "output_type": "stream",
          "name": "stdout",
          "text": [
            "AC30BD40\n",
            "ACBD7\n"
          ]
        }
      ]
    },
    {
      "cell_type": "markdown",
      "source": [
        "18.Ria is a 5 year old girl. Her mother wants to teach her how to sort words in the same order that they appear in a dictionary. She decides to write a program to sort a given set of strings based on their alphabetical order. Help Ria’s mother to complete the program.\n",
        "\n",
        "\n",
        "\n",
        "\n",
        "Input Description:\n",
        "A set of N strings\n",
        "\n",
        "Output Description:\n",
        "Alphabetically sorted set of strings\n",
        "\n",
        "Sample Input :\n",
        "3\n",
        "InfinityWar EndGame Avengers\n",
        "\n",
        "Sample Output :\n",
        "Avengers EndGame InfinityWar"
      ],
      "metadata": {
        "id": "ANfe8mVheBhm"
      }
    },
    {
      "cell_type": "code",
      "source": [
        "n = input()\n",
        "s = input()\n",
        "\n",
        "s = sorted(s.split())\n",
        "print(*s)"
      ],
      "metadata": {
        "colab": {
          "base_uri": "https://localhost:8080/"
        },
        "id": "fp-BsJ_EeBv0",
        "outputId": "8f23656e-41da-478d-e044-5f26394b66c3"
      },
      "execution_count": null,
      "outputs": [
        {
          "output_type": "stream",
          "name": "stdout",
          "text": [
            "3\n",
            "InfinityWar EndGame Avengers\n",
            "Avengers EndGame InfinityWar\n"
          ]
        }
      ]
    },
    {
      "cell_type": "markdown",
      "source": [
        "21.Indian PAN card issuing authority have found some fake PAN cards. They have hired you so that you can validate PAN card for them. Your task is to develop a suitable algorithm which could check if pan is valid or not\n",
        "\n",
        "1)Pan must have uppercase letters only.\n",
        "\n",
        "2)It must be of 10 character only\n",
        "\n",
        "3)From index 1 to 5 all must be letters(A-Z),last index must be letter\n",
        "\n",
        "4)Rest all must be integer Starting from 1\n",
        "\n",
        "\n",
        "Input Description:\n",
        "You are given a input string which indicates the PAN number\n",
        "\n",
        "Output Description:\n",
        "Print 'pan' if it is valid PAN number, else print 'not pan'\n",
        "\n",
        "Sample Input :\n",
        "HXTPS2142R\n",
        "Sample Output :\n",
        "pan"
      ],
      "metadata": {
        "id": "pGtFZ7yZheEi"
      }
    },
    {
      "cell_type": "code",
      "source": [
        "s = input()\n",
        "\n",
        "if len(s) != 10:\n",
        "  print('not pan')\n",
        "elif not s.isupper():\n",
        "  print('not pan')\n",
        "elif not s[0:5].isalpha():\n",
        "  print('not pan')\n",
        "elif not s[5:9].isdigit():\n",
        "  print('not pan')\n",
        "elif not s[9].isalpha():\n",
        "  print('not pan')\n",
        "else:\n",
        "  print('pan')"
      ],
      "metadata": {
        "colab": {
          "base_uri": "https://localhost:8080/"
        },
        "id": "WjuZCTKZhd3x",
        "outputId": "9d571f0b-64c2-4560-9ea7-960b8b05ef7b"
      },
      "execution_count": null,
      "outputs": [
        {
          "output_type": "stream",
          "name": "stdout",
          "text": [
            "HXTPS2142R\n",
            "pan\n"
          ]
        }
      ]
    },
    {
      "cell_type": "markdown",
      "source": [
        "22.Given a sentence and string S, find how many times S occurs in the given sentence.If S is not found in the sentence print -1\n",
        "Input Size : |sentence| <= 1000000(complexity O(n)).\n",
        "Sample Testcase :\n",
        "INPUT\n",
        "I enjoy doing codekata\n",
        "codekata\n",
        "OUTPUT\n",
        "1"
      ],
      "metadata": {
        "id": "PjXA5Uosi6yr"
      }
    },
    {
      "cell_type": "code",
      "source": [
        "sentence = input()\n",
        "word = input()\n",
        "\n",
        "if sentence.find(word) == -1:\n",
        "  print('-1')\n",
        "else:\n",
        "  print(sentence.count(word))"
      ],
      "metadata": {
        "colab": {
          "base_uri": "https://localhost:8080/"
        },
        "id": "PZTI3Iyji6lc",
        "outputId": "2c39c96d-596d-43d1-e3a2-8368ed5bfc81"
      },
      "execution_count": null,
      "outputs": [
        {
          "output_type": "stream",
          "name": "stdout",
          "text": [
            " I enjoy doing codekata\n",
            "codekata\n",
            "1\n"
          ]
        }
      ]
    },
    {
      "cell_type": "markdown",
      "source": [
        "23.You are given a ‘true’ string. String is called true if weight of string is multiple of 8. Your task is to tell whether a string can be declared True or Not. Weight of string is the sum of ASCII value of Vowel character(s) present in the string.\n",
        "\n",
        "\n",
        "Input Description:\n",
        "You are given as string ‘s’ in lower cases\n",
        "\n",
        "Output Description:\n",
        "Print 1 for true and 0 for false\n",
        "\n",
        "Sample Input :\n",
        "raja\n",
        "Sample Output :\n",
        "0"
      ],
      "metadata": {
        "id": "u1C7IqHQjjkP"
      }
    },
    {
      "cell_type": "code",
      "source": [
        "s = input()\n",
        "vowels = ['a','e','i','o','u','A','E','I','O','U']\n",
        "sum = 0\n",
        "for index,char in enumerate(s):\n",
        "  if char in vowels:\n",
        "    sum += ord(char)\n",
        "if sum % 8 == 0:\n",
        "  print('1')\n",
        "else:\n",
        "  print('0')"
      ],
      "metadata": {
        "colab": {
          "base_uri": "https://localhost:8080/"
        },
        "id": "1IqYMq1GjjaQ",
        "outputId": "73c6e4d2-29fe-453e-d54c-d416fac3cd94"
      },
      "execution_count": null,
      "outputs": [
        {
          "output_type": "stream",
          "name": "stdout",
          "text": [
            "raja\n",
            "194\n",
            "0\n"
          ]
        }
      ]
    },
    {
      "cell_type": "markdown",
      "source": [
        "25.You are given a paragraph.Your task is to print the words that come just after articles.\n",
        "\n",
        "\n",
        "Input Description:\n",
        "You are given a string ‘s’\n",
        "\n",
        "Output Description:\n",
        "print the words that come just after articles and -1 if there are no articles\n",
        "\n",
        "Sample Input :\n",
        "The sun rises in the east\n",
        "\n",
        "Sample Output :\n",
        "sun east"
      ],
      "metadata": {
        "id": "htTqFXQQrYPi"
      }
    },
    {
      "cell_type": "code",
      "source": [
        "s = input()\n",
        "s_ls = s.split()\n",
        "article = ['A','AN','THE']\n",
        "res = []\n",
        "for i in range(len(s_ls)):\n",
        "    if s_ls[i].upper() in article:\n",
        "        res.append(s_ls[i+1])\n",
        "print(*res)"
      ],
      "metadata": {
        "colab": {
          "base_uri": "https://localhost:8080/"
        },
        "id": "lcmnsjNnuCLj",
        "outputId": "cef55256-36ee-46b9-e84a-53a7ef521fc9"
      },
      "execution_count": null,
      "outputs": [
        {
          "output_type": "stream",
          "name": "stdout",
          "text": [
            "The sun rises in the east\n",
            "sun east\n"
          ]
        }
      ]
    },
    {
      "cell_type": "markdown",
      "source": [
        "26.Given a string S, print 'yes' if it is a palindrome or 'no' if it is not a palindrome.\n",
        "Sample Testcase :\n",
        "INPUT\n",
        "lappal\n",
        "OUTPUT\n",
        "yes"
      ],
      "metadata": {
        "id": "bH0qW_cWmKvy"
      }
    },
    {
      "cell_type": "code",
      "source": [
        "s = input()\n",
        "first_index = 0\n",
        "last_index = len(s) -1\n",
        "is_palidrome = False\n",
        "while first_index < last_index:\n",
        "  if s[first_index] == s[last_index]:\n",
        "    first_index += 1\n",
        "    last_index -= 1\n",
        "    is_palidrome = True\n",
        "  else:\n",
        "    first_index += 1\n",
        "    is_palidrome = False\n",
        "if is_palidrome:\n",
        "    print('yes')\n",
        "else:\n",
        "    print('no')"
      ],
      "metadata": {
        "colab": {
          "base_uri": "https://localhost:8080/"
        },
        "id": "UhPH1HL_ktnw",
        "outputId": "543a22fc-35de-426d-fa75-666794da74e8"
      },
      "execution_count": null,
      "outputs": [
        {
          "output_type": "stream",
          "name": "stdout",
          "text": [
            "lappal\n",
            "yes\n"
          ]
        }
      ]
    },
    {
      "cell_type": "markdown",
      "source": [
        "27.You are given a string ‘s’.Your task is to print the string in alternate lowercase and uppercase order.\n",
        "\n",
        "\n",
        "Input Description:\n",
        "You are given a string\n",
        "\n",
        "Output Description:\n",
        "Print the string according to given criteria\n",
        "\n",
        "Sample Input :\n",
        "abcd efgh ijkl\n",
        "Sample Output :\n",
        "ABCD efgh IJKL"
      ],
      "metadata": {
        "id": "bhNjMGBWm0_q"
      }
    },
    {
      "cell_type": "code",
      "source": [
        "s = input()\n",
        "words = s.split()\n",
        "res = []\n",
        "index = 0\n",
        "for word in words:\n",
        "  if index % 2 == 0:\n",
        "    res.append(word.upper())\n",
        "  else:\n",
        "    res.append(word.lower())\n",
        "  index += 1\n",
        "print(*res)\n"
      ],
      "metadata": {
        "colab": {
          "base_uri": "https://localhost:8080/"
        },
        "id": "LOwywwWZmzsF",
        "outputId": "529aa6c1-5574-4c2e-f5f2-4ab922be9f19"
      },
      "execution_count": null,
      "outputs": [
        {
          "output_type": "stream",
          "name": "stdout",
          "text": [
            "abcd efgh ijkl\n",
            "ABCD efgh IJKL\n"
          ]
        }
      ]
    },
    {
      "cell_type": "markdown",
      "source": [
        "29.You are given some words all in lower case letters your task is to print them in sorted order.\n",
        "\n",
        "\n",
        "Input Description:\n",
        "You are given a string ‘s’\n",
        "\n",
        "Output Description:\n",
        "Print the string in sorted order\n",
        "\n",
        "Sample Input :\n",
        "virat kohli\n",
        "Sample Output :\n",
        "kohli virat"
      ],
      "metadata": {
        "id": "BCOyA7BNnxUk"
      }
    },
    {
      "cell_type": "code",
      "source": [
        "s = input()\n",
        "print(*sorted(s.split()))"
      ],
      "metadata": {
        "colab": {
          "base_uri": "https://localhost:8080/"
        },
        "id": "kgRRjdhVnxFi",
        "outputId": "4dd59db4-dd43-4321-cecc-4c9005fee049"
      },
      "execution_count": null,
      "outputs": [
        {
          "output_type": "stream",
          "name": "stdout",
          "text": [
            " virat kohli\n",
            "kohli virat\n"
          ]
        }
      ]
    },
    {
      "cell_type": "markdown",
      "source": [
        "30.You are given a string ‘S’ consisting of lowercase Latin Letters. Find the first non repeating character in S. If you find all the characters are repeating print the answer as -1\n",
        "\n",
        "\n",
        "Input Description:\n",
        "You are given a string ‘s’\n",
        "\n",
        "Output Description:\n",
        "Print the first non occurring character if possible else -1.\n",
        "\n",
        "Sample Input :\n",
        "apple\n",
        "Sample Output :\n",
        "a"
      ],
      "metadata": {
        "id": "37Ubreo4pvhk"
      }
    },
    {
      "cell_type": "code",
      "source": [
        "s = input()\n",
        "for c in s:\n",
        "  if s.count(c) == 1:\n",
        "    print(c)\n",
        "    break\n",
        "else:\n",
        "  print('-1')"
      ],
      "metadata": {
        "colab": {
          "base_uri": "https://localhost:8080/"
        },
        "id": "1ZtV78ZBpvYj",
        "outputId": "10842701-a209-48ed-88f6-b6d452fee17f"
      },
      "execution_count": 19,
      "outputs": [
        {
          "output_type": "stream",
          "name": "stdout",
          "text": [
            "apple\n",
            "a\n"
          ]
        }
      ]
    },
    {
      "cell_type": "markdown",
      "source": [
        "32.You are given with a string which comprises of some numbers. Your task is to find the largest integer by converting the string to the corresponding integer.\n",
        "\n",
        "\n",
        "Input Description:\n",
        "First line contains n denoting number of Test Cases. The first and only Line of testcase has the string\n",
        "\n",
        "Output Description:\n",
        "Print the largest number\n",
        "\n",
        "Sample Input :\n",
        " I was born on 12 october 1998.\n",
        "\n",
        " India got independence on 15 august 1947. But they were fighting for it for last 90 years.\n",
        "\n",
        " Her birthdate is 27 july but I wished her on 28.\n",
        "Sample Output :\n",
        "1998"
      ],
      "metadata": {
        "id": "mRX9FkyAcmv9"
      }
    },
    {
      "cell_type": "code",
      "source": [
        "s = input()\n",
        "s = s.replace('.','')\n",
        "s_ls = s.split()\n",
        "max_no = 0\n",
        "for word in s_ls:\n",
        "    if word.isnumeric():\n",
        "      max_no = max(max_no,int(word))\n",
        "print(max_no)"
      ],
      "metadata": {
        "colab": {
          "base_uri": "https://localhost:8080/"
        },
        "id": "YCQI5LhPcmUC",
        "outputId": "becca309-b9c1-4a75-912d-edfe10d2ae41"
      },
      "execution_count": null,
      "outputs": [
        {
          "output_type": "stream",
          "name": "stdout",
          "text": [
            " I was born on 12 october 1998.\n",
            "1998\n"
          ]
        }
      ]
    },
    {
      "cell_type": "markdown",
      "source": [
        "33.Given a string S, find its length(including the spaces)without using any pre-defined functions.\n",
        "Sample Testcase :\n",
        "INPUT\n",
        "codekata\n",
        "OUTPUT\n",
        "8"
      ],
      "metadata": {
        "id": "8cvgDDDLoCJ5"
      }
    },
    {
      "cell_type": "code",
      "source": [
        "s = input()\n",
        "length = 0\n",
        "for c in s:\n",
        "    length+= 1\n",
        "print(length)"
      ],
      "metadata": {
        "colab": {
          "base_uri": "https://localhost:8080/"
        },
        "id": "VoFgJ2c6oB1G",
        "outputId": "b40a8796-99af-45bf-f5b4-dd66b540612e"
      },
      "execution_count": null,
      "outputs": [
        {
          "output_type": "stream",
          "name": "stdout",
          "text": [
            "codekata\n",
            "8\n"
          ]
        }
      ]
    },
    {
      "cell_type": "markdown",
      "source": [
        "34.Given 2 strings S1 and s2, check whether they are case senitively equal without using any predefined function(case sensitive).If they are not same print 'no'\n",
        "Sample Testcase :\n",
        "INPUT\n",
        "guvi guvi\n",
        "OUTPUT\n",
        "yes"
      ],
      "metadata": {
        "id": "qdtxpRbRpEjZ"
      }
    },
    {
      "cell_type": "code",
      "source": [
        "s = input()\n",
        "s_ls = s.split()\n",
        "is_equal = True\n",
        "for word in s_ls:\n",
        "    if s_ls[0] == s_ls[1]:\n",
        "        is_equal = True\n",
        "    else:\n",
        "        is_equal = False\n",
        "if is_equal:\n",
        "    print('yes')\n",
        "else:\n",
        "    print('no')\n"
      ],
      "metadata": {
        "colab": {
          "base_uri": "https://localhost:8080/"
        },
        "id": "uKS0g9y4pEV8",
        "outputId": "8b2dd588-2c5f-4a86-8279-6ce590b0cff9"
      },
      "execution_count": null,
      "outputs": [
        {
          "output_type": "stream",
          "name": "stdout",
          "text": [
            "guvi guvi\n",
            "yes\n"
          ]
        }
      ]
    },
    {
      "cell_type": "markdown",
      "source": [
        "35.Given a day, print 'yes' if it is a holiday otherwise print'no'.Assume that weekend days are holidays\n",
        "Sample Testcase :\n",
        "INPUT\n",
        "saturday\n",
        "OUTPUT\n",
        "yes\n",
        "INPUT\n",
        "monday\n",
        "OUTPUT\n",
        "no"
      ],
      "metadata": {
        "id": "_iSZEzeeq46z"
      }
    },
    {
      "cell_type": "code",
      "source": [
        "s = input()\n",
        "holiday = ['saturday','sunday']\n",
        "for days in holiday:\n",
        "    if s == days:\n",
        "        print('yes')\n",
        "    else:\n",
        "        print('no')\n",
        "    break"
      ],
      "metadata": {
        "colab": {
          "base_uri": "https://localhost:8080/"
        },
        "id": "h_G9ibWrq4wZ",
        "outputId": "d5967b5e-943b-4948-87f6-8898d10a6000"
      },
      "execution_count": null,
      "outputs": [
        {
          "output_type": "stream",
          "name": "stdout",
          "text": [
            "saturday\n",
            "yes\n"
          ]
        }
      ]
    },
    {
      "cell_type": "markdown",
      "source": [
        "36.Given a string S, print the encoded string by adding 3 to each character(a maps to d,b maps to e,c maps to f and so on).\n",
        "Input Size : 1 <= N <= 100000\n",
        "Sample Testcase :\n",
        "INPUT\n",
        "RADAR\n",
        "OUTPUT\n",
        "UDGDU"
      ],
      "metadata": {
        "id": "v3p-BCwXrLW5"
      }
    },
    {
      "cell_type": "code",
      "source": [
        "s = input()\n",
        "s_ls = s.split()\n",
        "res = ''\n",
        "for c in s_ls:\n",
        "    for char in c:\n",
        "      if ord(char) + 3 >= 91:\n",
        "        res += chr(ord(char)+3-26)\n",
        "      else:\n",
        "        res += chr(ord(char)+3)\n",
        "print(res)"
      ],
      "metadata": {
        "id": "ZONDVR_4rLLR",
        "colab": {
          "base_uri": "https://localhost:8080/"
        },
        "outputId": "37a09bf0-9692-4cac-b237-6e5bf6812ff2"
      },
      "execution_count": null,
      "outputs": [
        {
          "output_type": "stream",
          "name": "stdout",
          "text": [
            "XORO\n",
            "ARUR\n"
          ]
        }
      ]
    },
    {
      "cell_type": "markdown",
      "source": [
        "37.Rahul is given a task to manipulate a string, He hired you as a developer your task is to delete all the repeating characters and print the result left.\n",
        "\n",
        "\n",
        "Input Description:\n",
        "You are given a string ‘s’\n",
        "\n",
        "Output Description:\n",
        "Print the remaining string\n",
        "\n",
        "Sample Input :\n",
        "mississipie\n",
        "Sample Output :\n",
        "mpe"
      ],
      "metadata": {
        "id": "OWsacYlXuDhS"
      }
    },
    {
      "cell_type": "code",
      "source": [
        "s = input()\n",
        "s_copy = {}\n",
        "for c in s:\n",
        "    s_copy[c] = s.count(c)\n",
        "for key,value in s_copy.items():\n",
        "    if value > 1:\n",
        "        s = s.replace(key,'')\n",
        "print(s)"
      ],
      "metadata": {
        "colab": {
          "base_uri": "https://localhost:8080/"
        },
        "id": "m0REZpZYuDWA",
        "outputId": "233f2c3e-2bae-4947-f697-7a1fb38489cd"
      },
      "execution_count": null,
      "outputs": [
        {
          "output_type": "stream",
          "name": "stdout",
          "text": [
            "mississipie\n",
            "mpe\n"
          ]
        }
      ]
    },
    {
      "cell_type": "markdown",
      "source": [
        "38.Given a string S.Validate if a given string is numeric.print 'yes' if it is a numeric otherwise print 'no'.\n",
        "Sample Testcase :\n",
        "INPUT\n",
        "guvigeeks\n",
        "OUTPUT\n",
        "no"
      ],
      "metadata": {
        "id": "h4MZKosbvJ47"
      }
    },
    {
      "cell_type": "code",
      "source": [
        "s = input()\n",
        "if s.isnumeric():\n",
        "  print('yes')\n",
        "else:\n",
        "  print('no')"
      ],
      "metadata": {
        "id": "KxpiXJJTvJtn"
      },
      "execution_count": null,
      "outputs": []
    },
    {
      "cell_type": "markdown",
      "source": [
        "39.Given 2 strings,check whether they have any common characters.If found print 'yes' else print 'no'.\n",
        "Input Size : |s| <= 100000(O(n))\n",
        "Sample Testcase :\n",
        "INPUT\n",
        "guvi guvigeeks\n",
        "OUTPUT\n",
        "yes"
      ],
      "metadata": {
        "id": "22xOhcJ-vsBn"
      }
    },
    {
      "cell_type": "code",
      "source": [
        "s = input()\n",
        "s_ls = s.split()\n",
        "first = s_ls[0]\n",
        "second = s_ls[1]\n",
        "if second.find(first) != -1:\n",
        "  print('yes')\n",
        "else:\n",
        "  print('no')"
      ],
      "metadata": {
        "colab": {
          "base_uri": "https://localhost:8080/"
        },
        "id": "WXta5Zazvr4x",
        "outputId": "917070a7-aba3-4b60-e6a0-141f0dc7cc0b"
      },
      "execution_count": null,
      "outputs": [
        {
          "output_type": "stream",
          "name": "stdout",
          "text": [
            "guvi guvigeeks\n",
            "yes\n"
          ]
        }
      ]
    },
    {
      "cell_type": "markdown",
      "source": [
        "40.You are given a string ‘s’.Print all the duplicate characters of string.\n",
        "\n",
        "\n",
        "Input Description:\n",
        "String ‘s; is given\n",
        "\n",
        "Output Description:\n",
        "Print only duplicate character and -1 if no character is duplicate.\n",
        "\n",
        "Sample Input :\n",
        "abcddee\n",
        "Sample Output :\n",
        "d e"
      ],
      "metadata": {
        "id": "0xXGS5CqwxCD"
      }
    },
    {
      "cell_type": "code",
      "source": [
        "s = input()\n",
        "counts = {}\n",
        "res = []\n",
        "for c in s:\n",
        "    counts[c] = s.count(c)\n",
        "for key , count in counts.items():\n",
        "    if count > 1:\n",
        "        res.append(key)\n",
        "if res.__len__() == 0:\n",
        "    print('-1')\n",
        "else:\n",
        "    print(*res)\n"
      ],
      "metadata": {
        "colab": {
          "base_uri": "https://localhost:8080/"
        },
        "id": "iPLR1JF8wwk6",
        "outputId": "9f84cdfb-7c23-4f35-c05f-494dcde5145e"
      },
      "execution_count": null,
      "outputs": [
        {
          "output_type": "stream",
          "name": "stdout",
          "text": [
            "abcddee\n",
            "d e\n"
          ]
        }
      ]
    },
    {
      "cell_type": "markdown",
      "source": [
        "42.Given a string two strings S1 and S2, remove characters from the S1 which are present in the S2.If S1 becomes empty then print -1\n",
        "Input Size : N <= 100000\n",
        "Sample Testcase :\n",
        "INPUT\n",
        "GUVI GEEK\n",
        "OUTPUT\n",
        "UVI"
      ],
      "metadata": {
        "id": "bEg2ADm1QPFQ"
      }
    },
    {
      "cell_type": "code",
      "source": [
        "s1 , s2 = input().split()\n",
        "res = ''\n",
        "for ch in s1:\n",
        "  if ch not in s2:\n",
        "    res += ch\n",
        "if res == '':\n",
        "  print(-1)\n",
        "else:\n",
        "  print(res)"
      ],
      "metadata": {
        "colab": {
          "base_uri": "https://localhost:8080/"
        },
        "id": "Gx8uR0WOQPjX",
        "outputId": "5116b0bd-f541-45ea-c179-ffbb7046d188"
      },
      "execution_count": 10,
      "outputs": [
        {
          "output_type": "stream",
          "name": "stdout",
          "text": [
            "GUVI GEEK\n",
            "G\n",
            "U\n",
            "V\n",
            "I\n",
            "UVI\n"
          ]
        }
      ]
    },
    {
      "cell_type": "code",
      "source": [
        "dir('str')"
      ],
      "metadata": {
        "colab": {
          "base_uri": "https://localhost:8080/"
        },
        "id": "BEovgrnfR7GK",
        "outputId": "15b4eb17-96e4-4449-e44b-5164f7a1ad21"
      },
      "execution_count": 6,
      "outputs": [
        {
          "output_type": "execute_result",
          "data": {
            "text/plain": [
              "['__add__',\n",
              " '__class__',\n",
              " '__contains__',\n",
              " '__delattr__',\n",
              " '__dir__',\n",
              " '__doc__',\n",
              " '__eq__',\n",
              " '__format__',\n",
              " '__ge__',\n",
              " '__getattribute__',\n",
              " '__getitem__',\n",
              " '__getnewargs__',\n",
              " '__getstate__',\n",
              " '__gt__',\n",
              " '__hash__',\n",
              " '__init__',\n",
              " '__init_subclass__',\n",
              " '__iter__',\n",
              " '__le__',\n",
              " '__len__',\n",
              " '__lt__',\n",
              " '__mod__',\n",
              " '__mul__',\n",
              " '__ne__',\n",
              " '__new__',\n",
              " '__reduce__',\n",
              " '__reduce_ex__',\n",
              " '__repr__',\n",
              " '__rmod__',\n",
              " '__rmul__',\n",
              " '__setattr__',\n",
              " '__sizeof__',\n",
              " '__str__',\n",
              " '__subclasshook__',\n",
              " 'capitalize',\n",
              " 'casefold',\n",
              " 'center',\n",
              " 'count',\n",
              " 'encode',\n",
              " 'endswith',\n",
              " 'expandtabs',\n",
              " 'find',\n",
              " 'format',\n",
              " 'format_map',\n",
              " 'index',\n",
              " 'isalnum',\n",
              " 'isalpha',\n",
              " 'isascii',\n",
              " 'isdecimal',\n",
              " 'isdigit',\n",
              " 'isidentifier',\n",
              " 'islower',\n",
              " 'isnumeric',\n",
              " 'isprintable',\n",
              " 'isspace',\n",
              " 'istitle',\n",
              " 'isupper',\n",
              " 'join',\n",
              " 'ljust',\n",
              " 'lower',\n",
              " 'lstrip',\n",
              " 'maketrans',\n",
              " 'partition',\n",
              " 'removeprefix',\n",
              " 'removesuffix',\n",
              " 'replace',\n",
              " 'rfind',\n",
              " 'rindex',\n",
              " 'rjust',\n",
              " 'rpartition',\n",
              " 'rsplit',\n",
              " 'rstrip',\n",
              " 'split',\n",
              " 'splitlines',\n",
              " 'startswith',\n",
              " 'strip',\n",
              " 'swapcase',\n",
              " 'title',\n",
              " 'translate',\n",
              " 'upper',\n",
              " 'zfill']"
            ]
          },
          "metadata": {},
          "execution_count": 6
        }
      ]
    },
    {
      "cell_type": "markdown",
      "source": [
        "43.Given 2 strings.check if the second string is a substring of the first string.Print 'yes' if there exists a valid substring otherwise print 'no'.\n",
        "Input Size : 1 <= N <= 100000\n",
        "Sample Testcase :\n",
        "INPUT\n",
        "codekata code\n",
        "OUTPUT\n",
        "yes"
      ],
      "metadata": {
        "id": "cgf2aLMnB9pi"
      }
    },
    {
      "cell_type": "code",
      "source": [
        "s1,s2 = input().split()\n",
        "if s2 in s1:\n",
        "  print('yes')\n",
        "else:\n",
        "  print('no')"
      ],
      "metadata": {
        "colab": {
          "base_uri": "https://localhost:8080/"
        },
        "id": "7GKT-0dVB9PW",
        "outputId": "7a8c3ea0-e641-4c34-f117-3e75f0ffdcdd"
      },
      "execution_count": 2,
      "outputs": [
        {
          "output_type": "stream",
          "name": "stdout",
          "text": [
            "codekata code\n",
            "yes\n"
          ]
        }
      ]
    },
    {
      "cell_type": "markdown",
      "source": [
        "44.Given a string S, print the 1st and 3rd character of the string (chracter index starts from 1).\n",
        "Input Size : 1 <= N <= 100000\n",
        "Sample Testcase :\n",
        "INPUT\n",
        "codekata\n",
        "OUTPUT\n",
        "cd"
      ],
      "metadata": {
        "id": "Klonha39CkwQ"
      }
    },
    {
      "cell_type": "code",
      "source": [
        "s = input()\n",
        "print(s[0:4:2])"
      ],
      "metadata": {
        "colab": {
          "base_uri": "https://localhost:8080/"
        },
        "id": "WUzDOnFMCkna",
        "outputId": "b688368d-8ae0-4cd3-8624-aecca0771817"
      },
      "execution_count": 3,
      "outputs": [
        {
          "output_type": "stream",
          "name": "stdout",
          "text": [
            "codekata\n",
            "cd\n"
          ]
        }
      ]
    },
    {
      "cell_type": "markdown",
      "source": [
        "45.Given a number N,check whether it has repeating digits in it.print 'yes' if it has repeating digits otherwise print 'no'.\n",
        "Sample Testcase :\n",
        "INPUT\n",
        "11234\n",
        "OUTPUT\n",
        "yes"
      ],
      "metadata": {
        "id": "aEVOaLdbC58z"
      }
    },
    {
      "cell_type": "code",
      "source": [
        "n = input()\n",
        "is_repeating = False\n",
        "for num in n :\n",
        "  if n.count(num) > 1:\n",
        "    is_repeating = True\n",
        "if is_repeating:\n",
        "    print('yes')\n",
        "else:\n",
        "    print('no')"
      ],
      "metadata": {
        "colab": {
          "base_uri": "https://localhost:8080/"
        },
        "id": "f5QJ36B_C5um",
        "outputId": "0d9e55a3-bdcf-4430-b40e-5b7089e18e36"
      },
      "execution_count": 6,
      "outputs": [
        {
          "output_type": "stream",
          "name": "stdout",
          "text": [
            "1234\n",
            "no\n"
          ]
        }
      ]
    },
    {
      "cell_type": "markdown",
      "source": [
        "46.Given a string 'S' swap the even and odd characters starting from index 1(Assume the index starts from 0).\n",
        "Input Size : |s| <= 10000000(complexity O(n))\n",
        "Sample Testcase :\n",
        "INPUT\n",
        "codekata\n",
        "OUTPUT\n",
        "ocedakat"
      ],
      "metadata": {
        "id": "YjvQu81lD7CZ"
      }
    },
    {
      "cell_type": "code",
      "source": [
        "s = input()\n",
        "even_index = 0\n",
        "odd_index = 1\n",
        "\n",
        "s_c = ''\n",
        "for c in range(len(s)):\n",
        "    if(c % 2) == 0:\n",
        "        s_c += s[odd_index]\n",
        "        odd_index += 2\n",
        "    else:\n",
        "        s_c += s[even_index]\n",
        "        even_index += 2\n",
        "print(s_c)"
      ],
      "metadata": {
        "id": "0wxZMti1D6vp"
      },
      "execution_count": null,
      "outputs": []
    },
    {
      "cell_type": "code",
      "source": [
        "s = input()\n",
        "even_index = 0\n",
        "odd_index = 1\n",
        "for ch in s:\n",
        "  s[even_index] , s[odd_index] = s[odd_index] , s[even_index]\n",
        "  even_index += 2\n",
        "  odd_index += 2\n",
        "print(s)"
      ],
      "metadata": {
        "colab": {
          "base_uri": "https://localhost:8080/",
          "height": 228
        },
        "id": "gpDeKiktEDWP",
        "outputId": "faab880a-99b7-4ee4-8b76-56fdb502c717"
      },
      "execution_count": 7,
      "outputs": [
        {
          "name": "stdout",
          "output_type": "stream",
          "text": [
            "codekata\n"
          ]
        },
        {
          "output_type": "error",
          "ename": "TypeError",
          "evalue": "'str' object does not support item assignment",
          "traceback": [
            "\u001b[0;31m---------------------------------------------------------------------------\u001b[0m",
            "\u001b[0;31mTypeError\u001b[0m                                 Traceback (most recent call last)",
            "\u001b[0;32m<ipython-input-7-7cdc3b28c57a>\u001b[0m in \u001b[0;36m<cell line: 0>\u001b[0;34m()\u001b[0m\n\u001b[1;32m      3\u001b[0m \u001b[0modd_index\u001b[0m \u001b[0;34m=\u001b[0m \u001b[0;36m1\u001b[0m\u001b[0;34m\u001b[0m\u001b[0;34m\u001b[0m\u001b[0m\n\u001b[1;32m      4\u001b[0m \u001b[0;32mfor\u001b[0m \u001b[0mch\u001b[0m \u001b[0;32min\u001b[0m \u001b[0ms\u001b[0m\u001b[0;34m:\u001b[0m\u001b[0;34m\u001b[0m\u001b[0;34m\u001b[0m\u001b[0m\n\u001b[0;32m----> 5\u001b[0;31m   \u001b[0ms\u001b[0m\u001b[0;34m[\u001b[0m\u001b[0meven_index\u001b[0m\u001b[0;34m]\u001b[0m \u001b[0;34m,\u001b[0m \u001b[0ms\u001b[0m\u001b[0;34m[\u001b[0m\u001b[0modd_index\u001b[0m\u001b[0;34m]\u001b[0m \u001b[0;34m=\u001b[0m \u001b[0ms\u001b[0m\u001b[0;34m[\u001b[0m\u001b[0modd_index\u001b[0m\u001b[0;34m]\u001b[0m \u001b[0;34m,\u001b[0m \u001b[0ms\u001b[0m\u001b[0;34m[\u001b[0m\u001b[0meven_index\u001b[0m\u001b[0;34m]\u001b[0m\u001b[0;34m\u001b[0m\u001b[0;34m\u001b[0m\u001b[0m\n\u001b[0m\u001b[1;32m      6\u001b[0m   \u001b[0meven_index\u001b[0m \u001b[0;34m+=\u001b[0m \u001b[0;36m2\u001b[0m\u001b[0;34m\u001b[0m\u001b[0;34m\u001b[0m\u001b[0m\n\u001b[1;32m      7\u001b[0m   \u001b[0modd_index\u001b[0m \u001b[0;34m+=\u001b[0m \u001b[0;36m2\u001b[0m\u001b[0;34m\u001b[0m\u001b[0;34m\u001b[0m\u001b[0m\n",
            "\u001b[0;31mTypeError\u001b[0m: 'str' object does not support item assignment"
          ]
        }
      ]
    },
    {
      "cell_type": "markdown",
      "source": [
        "47.Given a input string S, reverse the given string by appending each character of the string with '-'.\n",
        "Input Size : |S| <= 100000\n",
        "Sample Testcase :\n",
        "INPUT\n",
        "codekata\n",
        "OUTPUT\n",
        "a-t-a-k-e-d-o-c"
      ],
      "metadata": {
        "id": "RrP8HhMkEzSd"
      }
    },
    {
      "cell_type": "code",
      "source": [
        "s = input()\n",
        "s_ls = list(map(str,s))\n",
        "print(s_ls)\n",
        "s_ls.reverse()\n",
        "print('-'.join(s_ls))"
      ],
      "metadata": {
        "colab": {
          "base_uri": "https://localhost:8080/"
        },
        "id": "8L5PLHs7EzIj",
        "outputId": "cc45f96d-c402-4ccd-fca8-5cc890d65c99"
      },
      "execution_count": 28,
      "outputs": [
        {
          "output_type": "stream",
          "name": "stdout",
          "text": [
            "codekata\n",
            "['c', 'o', 'd', 'e', 'k', 'a', 't', 'a']\n",
            "a-t-a-k-e-d-o-c\n",
            "a\n"
          ]
        }
      ]
    },
    {
      "cell_type": "markdown",
      "source": [
        "48.Given a binary number convert it into octal format.\n",
        "Sample Testcase :\n",
        "INPUT\n",
        "1100100\n",
        "OUTPUT\n",
        "144"
      ],
      "metadata": {
        "id": "Q63BGLviIYyo"
      }
    },
    {
      "cell_type": "code",
      "source": [
        "s = input()\n",
        "print(oct(int(s,2))[2:])"
      ],
      "metadata": {
        "colab": {
          "base_uri": "https://localhost:8080/"
        },
        "id": "znCfyasgIYh-",
        "outputId": "9456f2f3-ce96-4577-8038-4e3d72d9dc85"
      },
      "execution_count": 46,
      "outputs": [
        {
          "output_type": "stream",
          "name": "stdout",
          "text": [
            "1100100\n",
            "144\n"
          ]
        }
      ]
    },
    {
      "cell_type": "markdown",
      "source": [
        "49.Given 2 strings S,X. Print the string after deleting X.If X not found print the same string.\n",
        "Input Size : 1 <= |s|, |x| <= 1000\n",
        "Sample Testcase :\n",
        "INPUT\n",
        "Happy Birthday\n",
        "Happy\n",
        "OUTPUT\n",
        "Birthday"
      ],
      "metadata": {
        "id": "vM1EjhZVQmHR"
      }
    },
    {
      "cell_type": "code",
      "source": [
        "s = input()\n",
        "x = input()\n",
        "if x in s:\n",
        "    print(s.replace(x,'').strip())\n",
        "else:\n",
        "    print(s)"
      ],
      "metadata": {
        "colab": {
          "base_uri": "https://localhost:8080/"
        },
        "id": "6eT0N-YwQl4X",
        "outputId": "d97207ee-e25e-4dff-d937-1f1dc7771f54"
      },
      "execution_count": 48,
      "outputs": [
        {
          "output_type": "stream",
          "name": "stdout",
          "text": [
            "Happy Birthday\n",
            "Happy\n",
            "Birthday\n"
          ]
        }
      ]
    },
    {
      "cell_type": "markdown",
      "source": [
        "52.Given a number N and an array of N strings, find if two consecutive words are same.\n",
        "Input Size : N <= 1000\n",
        "Sample Testcase :\n",
        "INPUT\n",
        "5\n",
        "code\n",
        "overload\n",
        "vishal\n",
        "sundar\n",
        "anish\n",
        "OUTPUT\n",
        "no"
      ],
      "metadata": {
        "id": "FuyC3Va6SeKX"
      }
    },
    {
      "cell_type": "code",
      "source": [
        "# This is correct in terms of multiple line input() till n times\n",
        "n = int(input())\n",
        "s = []\n",
        "while n > 0:\n",
        "    s.append(input())\n",
        "    n -= 1\n",
        "start = 0\n",
        "end = 1\n",
        "is_exist = False\n",
        "while end < len(s):\n",
        "    if s[start] == s[end]:\n",
        "        is_exist = True\n",
        "        break\n",
        "    else:\n",
        "        is_exist = False\n",
        "    start += 1\n",
        "    end += 1\n",
        "if is_exist:\n",
        "    print('yes')\n",
        "else:\n",
        "    print('no')"
      ],
      "metadata": {
        "colab": {
          "base_uri": "https://localhost:8080/"
        },
        "id": "nkcuxW3MX5hL",
        "outputId": "2e7ec030-350b-4c1b-b685-56ad9c9e7333"
      },
      "execution_count": 70,
      "outputs": [
        {
          "output_type": "stream",
          "name": "stdout",
          "text": [
            "5\n",
            "code\n",
            "code\n",
            "vishal\n",
            "sundar\n",
            "anish\n",
            "yes\n"
          ]
        }
      ]
    },
    {
      "cell_type": "code",
      "source": [
        "#This can be used if we have single string input with space sepator.\n",
        "n = input()\n",
        "s = input().split()\n",
        "start = 0\n",
        "end = 1\n",
        "is_exist = False\n",
        "while end < len(s):\n",
        "    if s[start] == s[end]:\n",
        "        is_exist = True\n",
        "        break\n",
        "    else:\n",
        "        is_exist = False\n",
        "    start += 1\n",
        "    end += 1\n",
        "if is_exist:\n",
        "    print('yes')\n",
        "else:\n",
        "    print('no')"
      ],
      "metadata": {
        "colab": {
          "base_uri": "https://localhost:8080/"
        },
        "id": "r6qyxgrKSd_I",
        "outputId": "e590d7d7-c5d6-4897-eb58-2aa1223585f7"
      },
      "execution_count": 66,
      "outputs": [
        {
          "output_type": "stream",
          "name": "stdout",
          "text": [
            "5\n",
            "code code vishal sundar anish\n",
            "yes\n"
          ]
        }
      ]
    }
  ]
}