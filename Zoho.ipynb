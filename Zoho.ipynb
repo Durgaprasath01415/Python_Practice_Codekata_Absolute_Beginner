{
  "nbformat": 4,
  "nbformat_minor": 0,
  "metadata": {
    "colab": {
      "provenance": [],
      "authorship_tag": "ABX9TyMKTPhjhoiwDQIP3+7i0zIs",
      "include_colab_link": true
    },
    "kernelspec": {
      "name": "python3",
      "display_name": "Python 3"
    },
    "language_info": {
      "name": "python"
    }
  },
  "cells": [
    {
      "cell_type": "markdown",
      "metadata": {
        "id": "view-in-github",
        "colab_type": "text"
      },
      "source": [
        "<a href=\"https://colab.research.google.com/github/Durgaprasath01415/Python_Practice_Codekata_Absolute_Beginner/blob/main/Zoho.ipynb\" target=\"_parent\"><img src=\"https://colab.research.google.com/assets/colab-badge.svg\" alt=\"Open In Colab\"/></a>"
      ]
    },
    {
      "cell_type": "markdown",
      "source": [
        "1.Given a roman numeral N, convert it into integer.Take L=50, C=100.If it is not a valid roman numeral print '-1'\n",
        "Input Size : N <= 100\n",
        "Sample Testcase :\n",
        "INPUT\n",
        "VI\n",
        "OUTPUT\n",
        "6\n",
        "INPUT\n",
        "Y\n",
        "OUTPUT\n",
        "-1"
      ],
      "metadata": {
        "id": "avayI6Rt6O1j"
      }
    },
    {
      "cell_type": "code",
      "execution_count": null,
      "metadata": {
        "colab": {
          "base_uri": "https://localhost:8080/"
        },
        "id": "PQFxTFqn6J_m",
        "outputId": "a7edb890-f0ba-4700-8571-79e3acf61b43"
      },
      "outputs": [
        {
          "output_type": "stream",
          "name": "stdout",
          "text": [
            "X\n",
            "10\n"
          ]
        }
      ],
      "source": [
        "roman = {'I':1,\"V\":5,'X':10,'L':50,'C':100,'D':500,\"M\":1000}\n",
        "In = list(input())\n",
        "dic = {}\n",
        "for index,value in enumerate(In):\n",
        "    dic[index] = value\n",
        "sum = 0\n",
        "if len(In) == 1:\n",
        "    if In[0] in roman:\n",
        "        print(roman[In[0]])\n",
        "    else:\n",
        "        print('-1')\n",
        "else:\n",
        "    for i in range(len(dic)):\n",
        "        if dic[i] in roman:\n",
        "            if i+1 < len(dic) and roman[dic[i]] < roman[dic[i+1]]:\n",
        "                sum -= roman[dic[i]]\n",
        "            else:\n",
        "                sum += roman[dic[i]]\n",
        "        else:\n",
        "            print(\"-1\")\n",
        "    print(sum)"
      ]
    },
    {
      "cell_type": "markdown",
      "source": [
        "3.Given k sorted arrays of possibly different sizes, merge them and print the sorted output.\n",
        "Input Size : N<=100\n",
        "Example:\n",
        "INPUT\n",
        "k = 3\n",
        "1 3\n",
        "2 4 6\n",
        "0 9 10 11\n",
        "OUTPUT\n",
        "0 1 2 3 4 6 9 10 11"
      ],
      "metadata": {
        "id": "zV1PAYjvDPWD"
      }
    },
    {
      "cell_type": "code",
      "source": [
        "n = int(input())\n",
        "ls = []\n",
        "while n>0:\n",
        "    ls.append(list(map(int,input().split())))\n",
        "    n -= 1\n",
        "print(ls)\n",
        "all_one = []\n",
        "for i in ls:\n",
        "    all_one.extend(i)\n",
        "all_one.sort()\n",
        "print(*all_one)"
      ],
      "metadata": {
        "colab": {
          "base_uri": "https://localhost:8080/"
        },
        "id": "lB4jS0ejDPKK",
        "outputId": "764acc05-0e8b-4199-ff83-02b44ebe2cf8"
      },
      "execution_count": null,
      "outputs": [
        {
          "output_type": "stream",
          "name": "stdout",
          "text": [
            "3\n",
            "1 3 2\n",
            "4 6\n",
            "0 9 10 11\n",
            "[[1, 3, 2], [4, 6], [0, 9, 10, 11]]\n",
            "[0, 1, 2, 3, 4, 6, 9, 10, 11]\n"
          ]
        }
      ]
    },
    {
      "cell_type": "markdown",
      "source": [
        "7.Rajesh was going through alternative array sorting. He wishes to print the array alternatively. Hence hired you. Your task is to help rajesh in printing the array alternatively.\n",
        "\n",
        "\n",
        "\n",
        "An alternative array is an array in which first element is maximum of the whole array second element is minimum of the whole array. Third element is the second largest. Fourth element is the second smallest And so on. print the array in the desired manner.\n",
        "\n",
        "\n",
        "\n",
        "\n",
        "Input Description:\n",
        "You are given with the length of array ‘n’. followed by ‘n’ space separated numbers.\n",
        "\n",
        "Output Description:\n",
        "Print the array as mentioned.\n",
        "\n",
        "Sample Input :\n",
        "5 1 7 11 16 19\n",
        "Sample Output :\n",
        "19 1 16 7 11"
      ],
      "metadata": {
        "id": "Hn-0deHTIFuy"
      }
    },
    {
      "cell_type": "code",
      "source": [
        "n = int(input())\n",
        "nums = list(map(int,input().split()))\n",
        "nums_copy = nums.copy()\n",
        "res = []\n",
        "for i in range(n):\n",
        "  if len(nums_copy) > 0:\n",
        "    maxz = max(nums_copy)\n",
        "    minz = min(nums_copy)\n",
        "    if i%2 == 0:\n",
        "      res.append(maxz)\n",
        "      nums_copy.remove(maxz)\n",
        "    else:\n",
        "      res.append(minz)\n",
        "      nums_copy.remove(minz)\n",
        "print(*res)"
      ],
      "metadata": {
        "colab": {
          "base_uri": "https://localhost:8080/"
        },
        "id": "6smfZjKwIFoK",
        "outputId": "568af5c0-a18f-4a88-8d69-6bfa9cdb4a10"
      },
      "execution_count": null,
      "outputs": [
        {
          "output_type": "stream",
          "name": "stdout",
          "text": [
            "5\n",
            "1 7 11 16 19\n",
            "19 1 16 7 11\n"
          ]
        }
      ]
    },
    {
      "cell_type": "markdown",
      "source": [
        "Given a string as input, you have to reverse the string by keeping the punctuation and spaces intact. You have to modify the source\n",
        "string itself without creating another string.\n",
        "\n",
        "\n",
        "Input Description:\n",
        "1<=string length<=500\n",
        "\n",
        "Output Description:\n",
        "Print the string in reverse\n",
        "\n",
        "Sample Input :\n",
        "A man, in the boat says : I see 1-2-3 in the sky\n",
        "Sample Output :\n",
        "y kse, ht ni3 21ee sIsy : a sta o-b-e ht nin amA"
      ],
      "metadata": {
        "id": "ZurPlLP2VCbP"
      }
    },
    {
      "cell_type": "code",
      "source": [
        "s = input()\n",
        "dic1 = {}\n",
        "for index,key in enumerate(st):\n",
        "  dic1[index] = len(key)\n",
        "print('dic1 : ',dic1)\n",
        "st_rev = list(reversed(s))\n",
        "for j in st_rev:\n",
        "  if j == \" \":\n",
        "    st_rev.remove(j)\n",
        "print('st_rev : ',st_rev)\n",
        "res = []\n",
        "for k in dic1.values():\n",
        "  while k > 0:\n",
        "    if st_rev[0].isalpha() or st_rev[0].isdigit():\n",
        "      res.append(st_rev.pop(0))\n",
        "    k -= 1\n",
        "print('res : ',res)"
      ],
      "metadata": {
        "colab": {
          "base_uri": "https://localhost:8080/"
        },
        "id": "jj8XwaAaVCTn",
        "outputId": "0f0c1fdf-aad6-4fe4-f122-901bb6b4e7da"
      },
      "execution_count": null,
      "outputs": [
        {
          "output_type": "stream",
          "name": "stdout",
          "text": [
            "A man, in the boat says : I see 1-2-3 in the sky\n",
            "dic1 :  {0: 1, 1: 4, 2: 2, 3: 3, 4: 4, 5: 4, 6: 1, 7: 1, 8: 3, 9: 5, 10: 2, 11: 3, 12: 3}\n",
            "st_rev :  ['y', 'k', 's', 'e', 'h', 't', 'n', 'i', '3', '-', '2', '-', '1', 'e', 'e', 's', 'I', ':', 's', 'y', 'a', 's', 't', 'a', 'o', 'b', 'e', 'h', 't', 'n', 'i', ',', 'n', 'a', 'm', 'A']\n",
            "res :  ['y', 'k', 's', 'e', 'h', 't', 'n', 'i', '3']\n"
          ]
        }
      ]
    },
    {
      "cell_type": "code",
      "source": [
        "import pickle\n",
        "# dumps\n",
        "my_data = ['honda','toyota','ford','bmw','Royal','kia','benz']\n",
        "with open ('demos.pickle','wb') as file:\n",
        "     pickle_data = pickle.dumps(my_data)\n",
        "     file.write(pickle_data)"
      ],
      "metadata": {
        "id": "ZbAc5OqxzV-G"
      },
      "execution_count": null,
      "outputs": []
    },
    {
      "cell_type": "code",
      "source": [
        "# unpickling\n",
        "with open ('demos.pickle','rb') as file:\n",
        "    resu_data = pickle.loads(file.read())\n",
        "    print(resu_data)"
      ],
      "metadata": {
        "colab": {
          "base_uri": "https://localhost:8080/"
        },
        "id": "3QgcZTd2zbvq",
        "outputId": "c2286ae1-80e6-4101-deb2-080e18451131"
      },
      "execution_count": null,
      "outputs": [
        {
          "output_type": "stream",
          "name": "stdout",
          "text": [
            "['honda', 'toyota', 'ford', 'bmw', 'Royal', 'kia', 'benz']\n"
          ]
        }
      ]
    }
  ]
}