{
  "nbformat": 4,
  "nbformat_minor": 0,
  "metadata": {
    "colab": {
      "provenance": [],
      "authorship_tag": "ABX9TyOQmwvQuXcYE255r08ivu1f",
      "include_colab_link": true
    },
    "kernelspec": {
      "name": "python3",
      "display_name": "Python 3"
    },
    "language_info": {
      "name": "python"
    }
  },
  "cells": [
    {
      "cell_type": "markdown",
      "metadata": {
        "id": "view-in-github",
        "colab_type": "text"
      },
      "source": [
        "<a href=\"https://colab.research.google.com/github/Durgaprasath01415/Python_Practice_Codekata_Absolute_Beginner/blob/main/Basics.ipynb\" target=\"_parent\"><img src=\"https://colab.research.google.com/assets/colab-badge.svg\" alt=\"Open In Colab\"/></a>"
      ]
    },
    {
      "cell_type": "markdown",
      "source": [
        "5.Write a program to print the sum of the first K natural numbers.\n",
        "Input Size : n <= 100000\n",
        "Sample Testcase :\n",
        "INPUT\n",
        "3\n",
        "OUTPUT\n",
        "6"
      ],
      "metadata": {
        "id": "oZlZoDor6m1j"
      }
    },
    {
      "cell_type": "code",
      "source": [
        "k = int(input())\n",
        "print(sum(range(k+1)))"
      ],
      "metadata": {
        "colab": {
          "base_uri": "https://localhost:8080/"
        },
        "id": "vU-HEzhtPVsJ",
        "outputId": "ac95d48e-c706-4fbf-8458-7011c51b71cd"
      },
      "execution_count": 5,
      "outputs": [
        {
          "output_type": "stream",
          "name": "stdout",
          "text": [
            "4\n",
            "10\n"
          ]
        }
      ]
    },
    {
      "cell_type": "markdown",
      "source": [
        "6.Given 3 numbers N , L and R. Print 'yes' if N is between L and R else print 'no'.\n",
        "Sample Testcase :\n",
        "INPUT\n",
        "3\n",
        "2 6\n",
        "OUTPUT\n",
        "yes"
      ],
      "metadata": {
        "id": "KIUfR6zbSSKS"
      }
    },
    {
      "cell_type": "code",
      "source": [
        "N = int(input())\n",
        "between_of = input()\n",
        "L , R = map(int,between_of.split())\n",
        "if(N > L) and ( N < R):\n",
        "    print('yes')\n",
        "else:\n",
        "    print('no')\n"
      ],
      "metadata": {
        "colab": {
          "base_uri": "https://localhost:8080/"
        },
        "id": "l_8VuxJHSKfs",
        "outputId": "14fe804f-e700-4839-cef0-49c655fb567f"
      },
      "execution_count": 12,
      "outputs": [
        {
          "output_type": "stream",
          "name": "stdout",
          "text": [
            "3\n",
            "2 6\n",
            "yes\n"
          ]
        }
      ]
    },
    {
      "cell_type": "markdown",
      "source": [
        "7.Given 2 numbers N and K followed by N elements,print the number of repetition of K otherwise print '-1' if the element not found.\n",
        "Sample Testcase :\n",
        "INPUT\n",
        "6 2\n",
        "1 2 3 5 7 8\n",
        "OUTPUT\n",
        "0"
      ],
      "metadata": {
        "id": "dPB0T7k9Tahn"
      }
    },
    {
      "cell_type": "code",
      "source": [
        "N = input()\n",
        "K = N.split()[1]\n",
        "nums = input()\n",
        "if K in nums:\n",
        "    print(nums.count(K)-1)\n",
        "else:\n",
        "    print('-1')"
      ],
      "metadata": {
        "colab": {
          "base_uri": "https://localhost:8080/"
        },
        "id": "0VAASA6TTaOW",
        "outputId": "70f6388f-4a64-4a2e-91cc-8025c7e0fc4c"
      },
      "execution_count": 15,
      "outputs": [
        {
          "output_type": "stream",
          "name": "stdout",
          "text": [
            "6 2\n",
            "1 2 3 5 7 8\n",
            "0\n"
          ]
        }
      ]
    },
    {
      "cell_type": "markdown",
      "source": [
        "8.Given a range of 2 numbers (i.e) L and R count the number of prime numbers in the range (inclusive of L and R ).\n",
        "Input Size : L <= R <= 100000(complexity O(n) read about Sieve of Eratosthenes)\n",
        "Sample Testcase :\n",
        "INPUT\n",
        "2 5\n",
        "OUTPUT\n",
        "3"
      ],
      "metadata": {
        "id": "uNPuKXHVUmrH"
      }
    },
    {
      "cell_type": "code",
      "source": [
        "import math\n",
        "N = input()\n",
        "L = int(N.split()[0])\n",
        "R = int(N.split()[1])\n",
        "count = 0\n",
        "for eachNum in range(L,R+1):\n",
        "    if eachNum > 1:\n",
        "        for i in range(2, int(math.sqrt(eachNum)) + 1):\n",
        "            if (eachNum % i) == 0:\n",
        "                break\n",
        "        else:\n",
        "            count +=1\n",
        "print(count)"
      ],
      "metadata": {
        "colab": {
          "base_uri": "https://localhost:8080/"
        },
        "id": "x1xqw4hRTck4",
        "outputId": "76164b67-8b47-4a85-86fb-8bc8117979a0"
      },
      "execution_count": 18,
      "outputs": [
        {
          "output_type": "stream",
          "name": "stdout",
          "text": [
            "2 5\n",
            "3\n"
          ]
        }
      ]
    },
    {
      "cell_type": "markdown",
      "source": [
        "9.Write a code to get an integer N and print the sum of  values from 1 to N.\n",
        "\n",
        "\n",
        "Input Description:\n",
        "A single line contains an integer N.\n",
        "\n",
        "Output Description:\n",
        "Print the sum of values from 1 to N.\n",
        "\n",
        "Sample Input :\n",
        "10\n",
        "Sample Output :\n",
        "55"
      ],
      "metadata": {
        "id": "OpgGF2CAX4yc"
      }
    },
    {
      "cell_type": "code",
      "source": [
        "N = input()\n",
        "sum = 0\n",
        "for i in range(1,int(N)+1):\n",
        "    sum += i\n",
        "print(sum)"
      ],
      "metadata": {
        "colab": {
          "base_uri": "https://localhost:8080/"
        },
        "id": "5Hf6x6deX8Ho",
        "outputId": "d1a29473-a94f-4297-9682-8778b5adcdc3"
      },
      "execution_count": 20,
      "outputs": [
        {
          "output_type": "stream",
          "name": "stdout",
          "text": [
            "10\n",
            "55\n"
          ]
        }
      ]
    },
    {
      "cell_type": "markdown",
      "source": [
        "10.Write a code to get an integer N and print the values from N to 1.\n",
        "\n",
        "\n",
        "Input Description:\n",
        "A single line contains an integer N.\n",
        "\n",
        "Output Description:\n",
        "Print the values from N to 1 in a separate line.\n",
        "\n",
        "Sample Input :\n",
        "10\n",
        "Sample Output :\n",
        "10\n",
        "9\n",
        "8\n",
        "7\n",
        "6\n",
        "5\n",
        "4\n",
        "3\n",
        "2\n",
        "1"
      ],
      "metadata": {
        "id": "fFVbG-LvX-Z7"
      }
    },
    {
      "cell_type": "code",
      "source": [
        "N = int(input())\n",
        "for i in range(N,0,-1):\n",
        "    print(i)"
      ],
      "metadata": {
        "colab": {
          "base_uri": "https://localhost:8080/"
        },
        "id": "7wE9sU_cX-7Z",
        "outputId": "09331df9-bef8-42cc-a153-094a857aad18"
      },
      "execution_count": 21,
      "outputs": [
        {
          "output_type": "stream",
          "name": "stdout",
          "text": [
            "10\n",
            "10\n",
            "9\n",
            "8\n",
            "7\n",
            "6\n",
            "5\n",
            "4\n",
            "3\n",
            "2\n",
            "1\n"
          ]
        }
      ]
    },
    {
      "cell_type": "markdown",
      "source": [
        "11.Kabali is a brave warrior who with his group of young ninjas moves from one place to another to fight against his opponents. Before Fighting he just calculates one thing, the difference between his ninja number and the opponent's ninja number. From this difference he decides whether to fight or not. Kabali's ninja number is never greater than his opponent.\n",
        "Input\n",
        "The input contains two numbers in every line. These two numbers in each line denotes the number ninjas in Kabali's clan and his opponent's clan . print the absolute difference of number of ninjas between Kabali's clan and his opponent's clan. Each output should be in seperate line.\n",
        "Sample Testcase :\n",
        "INPUT\n",
        "100 200\n",
        "OUTPUT\n",
        "100"
      ],
      "metadata": {
        "id": "prGKRmzMXunV"
      }
    },
    {
      "cell_type": "code",
      "source": [
        "person_in_clan = input()\n",
        "kabali_clan = int(person_in_clan.split()[0])\n",
        "opponent_clan = int(person_in_clan.split()[1])\n",
        "print(opponent_clan - kabali_clan)"
      ],
      "metadata": {
        "colab": {
          "base_uri": "https://localhost:8080/"
        },
        "id": "EN3Mhq37XzPq",
        "outputId": "40c9cd22-5a17-4c5e-e8e0-8c704513a09f"
      },
      "execution_count": 19,
      "outputs": [
        {
          "output_type": "stream",
          "name": "stdout",
          "text": [
            "100 200\n",
            "100\n"
          ]
        }
      ]
    },
    {
      "cell_type": "markdown",
      "source": [
        "12.Given 2 numbers N and K followed by elements of N .Print 'yes' if K exists else print 'no'.\n",
        "Sample Testcase :\n",
        "INPUT\n",
        "4 2\n",
        "1 2 3 3\n",
        "OUTPUT\n",
        "yes"
      ],
      "metadata": {
        "id": "KWhYQWZcYl4N"
      }
    },
    {
      "cell_type": "code",
      "source": [
        "NK = input()\n",
        "nums = input()\n",
        "K = NK.split()[1]\n",
        "if K in nums:\n",
        "    print('yes')\n",
        "else:\n",
        "    print('no')"
      ],
      "metadata": {
        "colab": {
          "base_uri": "https://localhost:8080/"
        },
        "id": "biqbtLc1Ylb1",
        "outputId": "f9d3d9f5-f504-478e-cdf1-8e541f0885ed"
      },
      "execution_count": 24,
      "outputs": [
        {
          "output_type": "stream",
          "name": "stdout",
          "text": [
            "4 2\n",
            "1 2 3 3\n",
            "yes\n"
          ]
        }
      ]
    },
    {
      "cell_type": "markdown",
      "source": [
        "13.Write a code to get an integer N and print the digits of the integer.\n",
        "\n",
        "\n",
        "Input Description:\n",
        "A single line contains an integer N.\n",
        "\n",
        "Output Description:\n",
        "Print the digits of the integer in a single line separated by space,\n",
        "\n",
        "Sample Input :\n",
        "348\n",
        "Sample Output :\n",
        "3 4 8"
      ],
      "metadata": {
        "id": "8L3Uub41Y8KF"
      }
    },
    {
      "cell_type": "code",
      "source": [
        "N = input()\n",
        "for i in range(len(str(N))):\n",
        "  if i < len(str(N))-1:\n",
        "    print(str(N)[i],end =\" \")\n",
        "  else:\n",
        "    print(str(N)[i])"
      ],
      "metadata": {
        "colab": {
          "base_uri": "https://localhost:8080/"
        },
        "id": "2UHFKpKlY7mb",
        "outputId": "da4036ec-b863-4808-e8fa-b778b4fc2667"
      },
      "execution_count": 29,
      "outputs": [
        {
          "output_type": "stream",
          "name": "stdout",
          "text": [
            "348\n",
            "3 4 8\n"
          ]
        }
      ]
    },
    {
      "cell_type": "code",
      "source": [
        "N = input()\n",
        "print(\" \".join(N))"
      ],
      "metadata": {
        "colab": {
          "base_uri": "https://localhost:8080/"
        },
        "id": "eNg26zolZu2j",
        "outputId": "ce94d734-c5a9-4ef0-d134-5dac91491b06"
      },
      "execution_count": 28,
      "outputs": [
        {
          "output_type": "stream",
          "name": "stdout",
          "text": [
            "348\n",
            "3 4 8\n"
          ]
        }
      ]
    },
    {
      "cell_type": "markdown",
      "source": [
        "14.Given base(B) and height(H) of a triangle find its area.\n",
        "Input Size : N <= 1000000\n",
        "Sample Testcase :\n",
        "INPUT\n",
        "2 4\n",
        "OUTPUT\n",
        "4"
      ],
      "metadata": {
        "id": "2x2CWld3amhz"
      }
    },
    {
      "cell_type": "code",
      "source": [
        "dimensions = input()\n",
        "B = int(dimensions.split()[0])\n",
        "H = int(dimensions.split()[1])\n",
        "print(0.5 * B * H)"
      ],
      "metadata": {
        "id": "ry6894fpaoos"
      },
      "execution_count": null,
      "outputs": []
    },
    {
      "cell_type": "markdown",
      "source": [
        "15.Write a code to get an integer N and print values from 1 till N in a separate line.\n",
        "\n",
        "\n",
        "Input Description:\n",
        "A single line contains an integer N.\n",
        "\n",
        "Output Description:\n",
        "Print the values from 1 to N in a separate line.\n",
        "\n",
        "Sample Input :\n",
        "5\n",
        "Sample Output :\n",
        "1\n",
        "2\n",
        "3\n",
        "4\n",
        "5"
      ],
      "metadata": {
        "id": "zZIGGcI6az0j"
      }
    },
    {
      "cell_type": "code",
      "source": [
        "N = int(input())\n",
        "\n",
        "for i in range(1,N+1):\n",
        "    print(i)"
      ],
      "metadata": {
        "colab": {
          "base_uri": "https://localhost:8080/"
        },
        "id": "lmPczdwia0EL",
        "outputId": "2ed745d1-9205-4035-fc0e-acb99dbae9c5"
      },
      "execution_count": 30,
      "outputs": [
        {
          "output_type": "stream",
          "name": "stdout",
          "text": [
            "5\n",
            "1\n",
            "2\n",
            "3\n",
            "4\n",
            "5\n"
          ]
        }
      ]
    },
    {
      "cell_type": "markdown",
      "source": [
        "16.Given 3 numbers A,B,C process and print 'yes' if they can form the sides of a triangle otherwise print 'no'.\n",
        "Input Size : A,B,C <= 100000\n",
        "Sample Testcase :\n",
        "INPUT\n",
        "3 4 5\n",
        "OUTPUT\n",
        "yes"
      ],
      "metadata": {
        "id": "KxVidWUudHHB"
      }
    },
    {
      "cell_type": "code",
      "source": [
        "sides = input()\n",
        "A , B , C = map(int,sides.split())\n",
        "if (A + B) > C and (A + C) > B and (B + C) > A:\n",
        "    print('yes')\n",
        "else:\n",
        "    print('no')"
      ],
      "metadata": {
        "colab": {
          "base_uri": "https://localhost:8080/"
        },
        "id": "lMS1-zrPdCqW",
        "outputId": "217c29b1-b708-44fd-d0a9-fafdb2c7c492"
      },
      "execution_count": 34,
      "outputs": [
        {
          "output_type": "stream",
          "name": "stdout",
          "text": [
            "1 2 3\n",
            "1 2 3\n",
            "no\n"
          ]
        }
      ]
    },
    {
      "cell_type": "markdown",
      "source": [
        "17.Given 2 numbers N and M add both the numbers and check whether the sum is odd or even.\n",
        "Sample Testcase :\n",
        "INPUT\n",
        "9 2\n",
        "OUTPUT\n",
        "odd"
      ],
      "metadata": {
        "id": "XJl6D7fNhApJ"
      }
    },
    {
      "cell_type": "code",
      "source": [
        "nums = input()\n",
        "N , M = map(int,nums.split())\n",
        "if (N + M) % 2 == 0:\n",
        "    print('even')\n",
        "else:\n",
        "    print('odd')"
      ],
      "metadata": {
        "colab": {
          "base_uri": "https://localhost:8080/"
        },
        "id": "REwYxWQJhAXj",
        "outputId": "743c5305-6599-4a82-b60c-c2896b1b403c"
      },
      "execution_count": 35,
      "outputs": [
        {
          "output_type": "stream",
          "name": "stdout",
          "text": [
            "9 2\n",
            "odd\n"
          ]
        }
      ]
    },
    {
      "cell_type": "markdown",
      "source": [
        "18.Given numbers A,B find A^B.\n",
        "Input Size : 1 <= A <= 5 <= B <= 50\n",
        "Sample Testcase :\n",
        "INPUT\n",
        "3 4\n",
        "OUTPUT\n",
        "81"
      ],
      "metadata": {
        "id": "BweTRGushYaN"
      }
    },
    {
      "cell_type": "code",
      "source": [
        "nums = input()\n",
        "A , B = map(int,nums.split())\n",
        "print(A ** B)"
      ],
      "metadata": {
        "colab": {
          "base_uri": "https://localhost:8080/"
        },
        "id": "8foYFeZNhcJl",
        "outputId": "d16e495d-a8f4-4bb0-d741-54106530a4ae"
      },
      "execution_count": 37,
      "outputs": [
        {
          "output_type": "stream",
          "name": "stdout",
          "text": [
            "3 4\n",
            "81\n"
          ]
        }
      ]
    },
    {
      "cell_type": "markdown",
      "source": [
        "19.Write a code to get the input and print it 5 times.\n",
        "\n",
        "\n",
        "Input Description:\n",
        "A single line contains an integer N.\n",
        "\n",
        "Output Description:\n",
        "Output contains 5 lines with each line having the value N.\n",
        "\n",
        "Sample Input :\n",
        "4\n",
        "Sample Output :\n",
        "4\n",
        "4\n",
        "4\n",
        "4\n",
        "4"
      ],
      "metadata": {
        "id": "F8nEY9qZhpaE"
      }
    },
    {
      "cell_type": "code",
      "source": [
        "N = int(input())\n",
        "\n",
        "for i in range(5):\n",
        "    print(N)"
      ],
      "metadata": {
        "colab": {
          "base_uri": "https://localhost:8080/"
        },
        "id": "GIPgc8Ynhs-u",
        "outputId": "d4658d2a-228f-49b0-8d13-19fa18896e2c"
      },
      "execution_count": 38,
      "outputs": [
        {
          "output_type": "stream",
          "name": "stdout",
          "text": [
            "4\n",
            "4\n",
            "4\n",
            "4\n",
            "4\n",
            "4\n"
          ]
        }
      ]
    },
    {
      "cell_type": "markdown",
      "source": [
        "20.Write a program to get a string as input and reverse the string without using temporary variable.\n",
        "\n",
        "\n",
        "Input Description:\n",
        "A single line containing a string.\n",
        "\n",
        "Output Description:\n",
        "Print the reversed string.\n",
        "\n",
        "Sample Input :\n",
        "GUVI\n",
        "Sample Output :\n",
        "IVUG"
      ],
      "metadata": {
        "id": "2IuHI3k8ikdP"
      }
    },
    {
      "cell_type": "code",
      "source": [
        "st = input()\n",
        "for i in range(len(st)):\n",
        "  if i > len(st):\n",
        "    print(st[len(st)-i-1])\n",
        "  else:\n",
        "    print(st[len(st)-i-1],end=\"\")"
      ],
      "metadata": {
        "colab": {
          "base_uri": "https://localhost:8080/"
        },
        "id": "DHGqrvgIik1b",
        "outputId": "dc0ae05a-9120-4f05-fea3-96038d8fcf77"
      },
      "execution_count": 39,
      "outputs": [
        {
          "output_type": "stream",
          "name": "stdout",
          "text": [
            "GUVI\n",
            "IVUG"
          ]
        }
      ]
    },
    {
      "cell_type": "markdown",
      "source": [
        "25.Given 3 numbers A,B,C print 'yes' if they can form the sides of a scalene triangle else print 'no'.\n",
        "Input Size : A,B,C <= 100000\n",
        "Sample Testcase :\n",
        "INPUT\n",
        "3 4 5\n",
        "OUTPUT\n",
        "yes"
      ],
      "metadata": {
        "id": "Mqxg2lIMkjUL"
      }
    },
    {
      "cell_type": "code",
      "source": [
        "sides = input()\n",
        "A ,B ,C = map(int,sides.split())\n",
        "if A != B and B != C and C != A:\n",
        "    print('yes')\n",
        "else:\n",
        "    print('no')"
      ],
      "metadata": {
        "colab": {
          "base_uri": "https://localhost:8080/"
        },
        "id": "6iUrTJwakYQl",
        "outputId": "a6d27637-298a-484a-bc1d-ea2a1aca5153"
      },
      "execution_count": 41,
      "outputs": [
        {
          "output_type": "stream",
          "name": "stdout",
          "text": [
            "3 4 5\n",
            "yes\n"
          ]
        }
      ]
    },
    {
      "cell_type": "markdown",
      "source": [
        "Given a string 'S' swap the even and odd characters starting from index 1(Assume the index starts from 0).\n",
        "Input Size : |s| <= 10000000(complexity O(n))\n",
        "Sample Testcase :\n",
        "INPUT\n",
        "codekata\n",
        "OUTPUT\n",
        "ocedakat"
      ],
      "metadata": {
        "id": "Fuo0vttumQk4"
      }
    },
    {
      "cell_type": "code",
      "source": [
        "s = input()\n",
        "even_index = 0\n",
        "odd_index = 1\n",
        "\n",
        "s_c = ''\n",
        "for c in range(len(s)):\n",
        "    if(c % 2) == 0:\n",
        "        s_c += s[odd_index]\n",
        "        odd_index += 2\n",
        "    else:\n",
        "        s_c += s[even_index]\n",
        "        even_index += 2\n",
        "print(s_c)"
      ],
      "metadata": {
        "colab": {
          "base_uri": "https://localhost:8080/"
        },
        "id": "SN-kRe6nmN1d",
        "outputId": "9572ce5d-ce9c-4c78-b318-ac3ab4ea080d"
      },
      "execution_count": 45,
      "outputs": [
        {
          "output_type": "stream",
          "name": "stdout",
          "text": [
            "codekata\n",
            "ocedakat\n"
          ]
        }
      ]
    },
    {
      "cell_type": "markdown",
      "source": [
        "30.Given 3 numbers A,B,C print 'yes' if they can form the sides of a right angled triangle,otherwise 'no'.\n",
        "Input Size : A,B,C <= 100000\n",
        "Sample Testcase :\n",
        "INPUT\n",
        "3 4 5\n",
        "OUTPUT\n",
        "yes"
      ],
      "metadata": {
        "id": "Jp5chDZ-op9w"
      }
    },
    {
      "cell_type": "code",
      "source": [
        "sides = input()\n",
        "A ,B ,C = map(int,sides.split())\n",
        "if (A**2 + B**2) == C**2:\n",
        "    print('yes')\n",
        "else:\n",
        "    print('no')"
      ],
      "metadata": {
        "colab": {
          "base_uri": "https://localhost:8080/"
        },
        "id": "TUX-5ykromSX",
        "outputId": "1c7b98ac-8977-4126-884a-99aa1b25f2e0"
      },
      "execution_count": 77,
      "outputs": [
        {
          "output_type": "stream",
          "name": "stdout",
          "text": [
            "3 4 5\n",
            "yes\n"
          ]
        }
      ]
    },
    {
      "cell_type": "markdown",
      "source": [
        "31.Given a string S consisting of 2 words reverse the order of two words .\n",
        "Input Size : |S| <= 10000000\n",
        "Sample Testcase :\n",
        "INPUT\n",
        "hello world\n",
        "OUTPUT\n",
        "world hello"
      ],
      "metadata": {
        "id": "gbevW6Qk_zKT"
      }
    },
    {
      "cell_type": "code",
      "source": [
        "s = input()\n",
        "s_ls = s.split()\n",
        "s_ls.reverse()\n",
        "print(*s_ls)"
      ],
      "metadata": {
        "colab": {
          "base_uri": "https://localhost:8080/"
        },
        "id": "lABr-N0gwaTT",
        "outputId": "116cad8a-6911-498e-fe7f-9a2d152e3159"
      },
      "execution_count": 95,
      "outputs": [
        {
          "output_type": "stream",
          "name": "stdout",
          "text": [
            "hello wrold\n",
            "['wrold', 'hello']\n"
          ]
        }
      ]
    },
    {
      "cell_type": "markdown",
      "source": [
        "32.Write a code get an integer number as input and print the odd and even digits of the number separately.\n",
        "\n",
        "\n",
        "Input Description:\n",
        "A single line containing an integer.\n",
        "\n",
        "Output Description:\n",
        "Print the even and odd integers of the integer in a separate line.\n",
        "\n",
        "Sample Input :\n",
        "1234\n",
        "Sample Output :\n",
        "2 4\n",
        "1 3"
      ],
      "metadata": {
        "id": "sUy4BRv__7so"
      }
    },
    {
      "cell_type": "code",
      "source": [
        "num = int(input())\n",
        "odd = []\n",
        "even = []\n",
        "while num != 0:\n",
        "    r = num % 10\n",
        "    if r % 2 == 0:\n",
        "        even.append(str(r))  # Append as string for join()\n",
        "    else:\n",
        "        odd.append(str(r))   # Append as string for join()\n",
        "    num //= 10\n",
        "\n",
        "even.sort()\n",
        "odd.sort()\n",
        "\n",
        "print(\" \".join(even))\n",
        "print(\" \".join(odd))"
      ],
      "metadata": {
        "colab": {
          "base_uri": "https://localhost:8080/"
        },
        "id": "FdA6-eLJ__CX",
        "outputId": "8537a46c-4658-484d-89d7-4de8e6dae8fb"
      },
      "execution_count": 101,
      "outputs": [
        {
          "output_type": "stream",
          "name": "stdout",
          "text": [
            "1234\n",
            "2 4\n",
            "1 3\n"
          ]
        }
      ]
    },
    {
      "cell_type": "markdown",
      "source": [
        "34.Given 2 numbers N,M. Print 'yes' if their product is a perfect square else print 'no'.\n",
        "Sample Testcase :\n",
        "INPUT\n",
        "5 5\n",
        "OUTPUT\n",
        "yes"
      ],
      "metadata": {
        "id": "S8eZqcrKFBoQ"
      }
    },
    {
      "cell_type": "code",
      "source": [
        "nums = input()\n",
        "N ,M = map(int,nums.split())\n",
        "if N * M == N ** 2:\n",
        "    print('yes')\n",
        "else:\n",
        "    print('no')"
      ],
      "metadata": {
        "colab": {
          "base_uri": "https://localhost:8080/"
        },
        "id": "iqqtpps4D9u0",
        "outputId": "fafd666f-e11e-4662-b977-8535b9b30c68"
      },
      "execution_count": 100,
      "outputs": [
        {
          "output_type": "stream",
          "name": "stdout",
          "text": [
            "5 5\n",
            "yes\n"
          ]
        }
      ]
    },
    {
      "cell_type": "code",
      "source": [
        "36.Write a code get an integer number as input and print the sum of the digits.\n",
        "\n",
        "\n",
        "Input Description:\n",
        "A single line containing an integer.\n",
        "\n",
        "Output Description:\n",
        "Print the sum of the digits of the integer.\n",
        "\n",
        "Sample Input :\n",
        "124\n",
        "Sample Output :\n",
        "7"
      ],
      "metadata": {
        "id": "HwzZ4vo8E3WI"
      },
      "execution_count": null,
      "outputs": []
    },
    {
      "cell_type": "code",
      "source": [
        "num = int(input())\n",
        "ans = 0\n",
        "while num != 0:\n",
        "  r = int(num % 10)\n",
        "  ans = ans + r\n",
        "  num = int(num / 10)\n",
        "print(ans)"
      ],
      "metadata": {
        "colab": {
          "base_uri": "https://localhost:8080/"
        },
        "id": "knDNmWxdFHPI",
        "outputId": "00b0c49f-dca5-4edf-800f-3b3a284ec49a"
      },
      "execution_count": 102,
      "outputs": [
        {
          "output_type": "stream",
          "name": "stdout",
          "text": [
            "124\n",
            "7\n"
          ]
        }
      ]
    },
    {
      "cell_type": "code",
      "source": [
        "draws_input = input()\n",
        "person_1 , person_2 = draws_input.split()\n",
        "if person_1 == 'R' or person_1 == 'P' and person_2 == 'P' or person_2 =='R':\n",
        "    print('P')\n",
        "elif person_1 == 'P' or person_1 == 'S' and person_2 == 'S' or person_1 == 'P':\n",
        "    print('S')\n",
        "elif person_1 == 'S' or person_1 == 'R' and person_2 == 'R'or person_2 == 'S':\n",
        "    print('R')\n",
        "else:\n",
        "    print('D')"
      ],
      "metadata": {
        "colab": {
          "base_uri": "https://localhost:8080/"
        },
        "id": "UUPYIgkuFq8N",
        "outputId": "26a32dc8-b24f-4058-d19b-ba9fa5021ebd"
      },
      "execution_count": 112,
      "outputs": [
        {
          "output_type": "stream",
          "name": "stdout",
          "text": [
            "P R\n",
            "P\n"
          ]
        }
      ]
    },
    {
      "cell_type": "markdown",
      "source": [
        "38.Let P represent Paper, R represent Rock and S represent Scissors. Given 2 out of the 3 determine which one wins. If its a draw print 'D'.\n",
        "Sample Testcase :\n",
        "INPUT\n",
        "R P\n",
        "OUTPUT\n",
        "P"
      ],
      "metadata": {
        "id": "xVfeOiUNKdy6"
      }
    },
    {
      "cell_type": "code",
      "source": [
        "draws_input = input()\n",
        "person_1 , person_2 = draws_input.split()\n",
        "if person_1 == person_2:\n",
        "    print('D')\n",
        "elif person_1 == 'R' or person_1 == 'P' and person_2 == 'P' or person_2 =='R':\n",
        "    print('P')\n",
        "elif person_1 == 'P' or person_1 == 'S' and person_2 == 'S' or person_1 == 'P':\n",
        "    print('S')\n",
        "elif person_1 == 'S' or person_1 == 'R' and person_2 == 'R'or person_2 == 'S':\n",
        "    print('R')"
      ],
      "metadata": {
        "colab": {
          "base_uri": "https://localhost:8080/"
        },
        "id": "F3iPh4iBKWyj",
        "outputId": "e714c9fb-a4c4-4d3f-d679-7eca24b2062f"
      },
      "execution_count": 114,
      "outputs": [
        {
          "output_type": "stream",
          "name": "stdout",
          "text": [
            "R R\n",
            "D\n"
          ]
        }
      ]
    },
    {
      "cell_type": "markdown",
      "source": [
        "41.Given a number N followed by N numbers.Find the smallest number and largest number and print both the indices(1 based indexing).\n",
        "Input Size : N <= 100000\n",
        "Sample Testcase :\n",
        "INPUT\n",
        "5\n",
        "1 2 3 4 5\n",
        "OUTPUT\n",
        "1 5"
      ],
      "metadata": {
        "id": "9FVVTewnbo3i"
      }
    },
    {
      "cell_type": "code",
      "source": [
        "n = input()\n",
        "num = input()\n",
        "nums = map(int, num.split())\n",
        "nums = list(nums)\n",
        "high = max(nums)\n",
        "small = min(nums)\n",
        "print(nums.index(small)+1,nums.index(high)+1)"
      ],
      "metadata": {
        "colab": {
          "base_uri": "https://localhost:8080/"
        },
        "id": "lGLem-dLLxIM",
        "outputId": "838c5504-ceb5-4916-f769-111faef2b2ff"
      },
      "execution_count": 5,
      "outputs": [
        {
          "output_type": "stream",
          "name": "stdout",
          "text": [
            "5\n",
            "1 2 3 4 5\n",
            "1 5\n"
          ]
        }
      ]
    }
  ]
}