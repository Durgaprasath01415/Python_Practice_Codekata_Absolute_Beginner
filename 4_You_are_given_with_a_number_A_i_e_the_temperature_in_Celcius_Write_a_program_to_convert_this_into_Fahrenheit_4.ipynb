{
  "nbformat": 4,
  "nbformat_minor": 0,
  "metadata": {
    "colab": {
      "provenance": [],
      "authorship_tag": "ABX9TyNyrtlcQydyQBjMJe0Cwfri",
      "include_colab_link": true
    },
    "kernelspec": {
      "name": "python3",
      "display_name": "Python 3"
    },
    "language_info": {
      "name": "python"
    }
  },
  "cells": [
    {
      "cell_type": "markdown",
      "metadata": {
        "id": "view-in-github",
        "colab_type": "text"
      },
      "source": [
        "<a href=\"https://colab.research.google.com/github/Durgaprasath01415/Python_Practice_Codekata_Absolute_Beginner/blob/main/4_You_are_given_with_a_number_A_i_e_the_temperature_in_Celcius_Write_a_program_to_convert_this_into_Fahrenheit_4.ipynb\" target=\"_parent\"><img src=\"https://colab.research.google.com/assets/colab-badge.svg\" alt=\"Open In Colab\"/></a>"
      ]
    },
    {
      "cell_type": "markdown",
      "source": [
        "You are given with a number A i.e. the temperature in Celcius. Write a program to convert this into Fahrenheit.\n",
        "\n",
        "Note: In case of decimal values, round-off to two decimal places.\n",
        "\n",
        "\n",
        "Input Description:\n",
        "A number is provided in Celcius as the input of the program.\n",
        "\n",
        "Output Description:\n",
        "The output shall be the temperature converted into Fahrenheit corresponding to the input value print up to two decimal places and round off if required.\n",
        "\n",
        "Sample Input :\n",
        "12\n",
        "Sample Output :\n",
        "53.60"
      ],
      "metadata": {
        "id": "VpgQJPARhvNZ"
      }
    },
    {
      "cell_type": "code",
      "execution_count": 17,
      "metadata": {
        "colab": {
          "base_uri": "https://localhost:8080/"
        },
        "id": "Z1qflvPdhrrA",
        "outputId": "50518e3c-9e73-4d5a-c23a-c0d71994c03e"
      },
      "outputs": [
        {
          "output_type": "stream",
          "name": "stdout",
          "text": [
            "12\n",
            "53.6\n"
          ]
        }
      ],
      "source": [
        "Cel = int(input())\n",
        "Fer = round((Cel * 9/5) + 32, 2)\n",
        "print(Fer)"
      ]
    }
  ]
}