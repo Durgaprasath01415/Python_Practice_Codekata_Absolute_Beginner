{
  "nbformat": 4,
  "nbformat_minor": 0,
  "metadata": {
    "colab": {
      "provenance": [],
      "authorship_tag": "ABX9TyNaKlugoMDAVnmtTDph0Bkn",
      "include_colab_link": true
    },
    "kernelspec": {
      "name": "python3",
      "display_name": "Python 3"
    },
    "language_info": {
      "name": "python"
    }
  },
  "cells": [
    {
      "cell_type": "markdown",
      "metadata": {
        "id": "view-in-github",
        "colab_type": "text"
      },
      "source": [
        "<a href=\"https://colab.research.google.com/github/Durgaprasath01415/Python_Practice_Codekata_Absolute_Beginner/blob/main/Companies.ipynb\" target=\"_parent\"><img src=\"https://colab.research.google.com/assets/colab-badge.svg\" alt=\"Open In Colab\"/></a>"
      ]
    },
    {
      "cell_type": "markdown",
      "source": [
        "1.Given a string and a number K, change every kth character to uppercase from beginning in string.\n",
        "Sample Testcase :\n",
        "INPUT\n",
        "string 2\n",
        "OUTPUT\n",
        "sTrInG"
      ],
      "metadata": {
        "id": "kTKNC05J5gs1"
      }
    },
    {
      "cell_type": "code",
      "execution_count": 33,
      "metadata": {
        "colab": {
          "base_uri": "https://localhost:8080/"
        },
        "id": "04TtK_jB5djN",
        "outputId": "3dabb0d9-9dc5-4b72-e8dd-ac895b2faa6e"
      },
      "outputs": [
        {
          "output_type": "stream",
          "name": "stdout",
          "text": [
            "string 2\n",
            "sTrInG\n"
          ]
        }
      ],
      "source": [
        "S = input().split()\n",
        "s = S[0]\n",
        "k = int(S[1])\n",
        "index = k\n",
        "s2 = []\n",
        "if len(s) < k:\n",
        "    print(s)\n",
        "else:\n",
        "    for c in range(len(s)):\n",
        "      if (c+1) <= len(s) and (c+1) == index:\n",
        "        s2.append(s[c].upper())\n",
        "        index += k\n",
        "      else:\n",
        "        s2.append(s[c])\n",
        "    res = \"\".join(s2)\n",
        "    print(res)"
      ]
    },
    {
      "cell_type": "markdown",
      "source": [
        "2.Given the values of a,b and x in the equation ax + b = y. Find the value of y.\n",
        "Sample Testcase :\n",
        "INPUT\n",
        "3 5 2\n",
        "OUTPUT\n",
        "11"
      ],
      "metadata": {
        "id": "Ol8v4oHL_hQc"
      }
    },
    {
      "cell_type": "code",
      "source": [
        "a,b,x = map(int,input().split())\n",
        "# a,b,x = int(input().split())      Ask question in class\n",
        "print((a*x)+b)"
      ],
      "metadata": {
        "colab": {
          "base_uri": "https://localhost:8080/"
        },
        "id": "kJDKIBbD_hIV",
        "outputId": "2c837078-d643-4f39-b743-4b1355597c7b"
      },
      "execution_count": 36,
      "outputs": [
        {
          "output_type": "stream",
          "name": "stdout",
          "text": [
            "3 5 2\n",
            "11\n"
          ]
        }
      ]
    },
    {
      "cell_type": "markdown",
      "source": [
        "3.Given base(B) and height(H) of a triangle find its area.\n",
        "Input Size : N <= 1000000\n",
        "Sample Testcase :\n",
        "INPUT\n",
        "2 4\n",
        "OUTPUT\n",
        "4"
      ],
      "metadata": {
        "id": "GaHxN3WxAsXN"
      }
    },
    {
      "cell_type": "code",
      "source": [
        "dimensions = input()\n",
        "B = int(dimensions.split()[0])\n",
        "H = int(dimensions.split()[1])\n",
        "print(0.5 * B * H)"
      ],
      "metadata": {
        "id": "fDmYzZ3XAr6l"
      },
      "execution_count": null,
      "outputs": []
    },
    {
      "cell_type": "markdown",
      "source": [
        "4.Given a number 'N' print the sum of each digit to the power of number of digits in given input.\n",
        "Example :\n",
        "Input => 1234\n",
        "=> ( 1 ^ 4 ) + ( 2 ^ 4 ) + ( 3 ^ 4 ) + ( 4 ^ 4 )\n",
        "=> 1 + 16 + 81 + 256\n",
        "Output => 354\n",
        "N <=100000000000\n",
        "Sample Testcase :\n",
        "INPUT\n",
        "1234\n",
        "OUTPUT\n",
        "354"
      ],
      "metadata": {
        "id": "LICaPtNRAjXN"
      }
    },
    {
      "cell_type": "code",
      "source": [
        "inp = input()\n",
        "size = len(inp)\n",
        "sum = 0\n",
        "for i in inp:\n",
        "  sum += int(i)**size\n",
        "print(sum)"
      ],
      "metadata": {
        "colab": {
          "base_uri": "https://localhost:8080/"
        },
        "id": "PwMbhE5vAipm",
        "outputId": "b8139671-63c6-4978-9497-d8f242e035e2"
      },
      "execution_count": 37,
      "outputs": [
        {
          "output_type": "stream",
          "name": "stdout",
          "text": [
            "1234\n",
            "354\n"
          ]
        }
      ]
    },
    {
      "cell_type": "markdown",
      "source": [
        "5.Given a number N followed by a list of N numbers. Write a program to reverse the list and print the list.\n",
        "Input Size : 1 <= N <= 10000\n",
        "Sample Testcases :\n",
        "INPUT\n",
        "7\n",
        "1 2 3 4 5 6 7\n",
        "OUTPUT\n",
        "7->6->5->4->3->2->1"
      ],
      "metadata": {
        "id": "2PdyCh6mBStN"
      }
    },
    {
      "cell_type": "code",
      "source": [
        "n = input()\n",
        "s = input().split()\n",
        "s.reverse()\n",
        "print('->'.join(s))"
      ],
      "metadata": {
        "colab": {
          "base_uri": "https://localhost:8080/"
        },
        "id": "NpS7-I7ZBSh9",
        "outputId": "f6e67202-bdb5-479b-c356-710cae894bf2"
      },
      "execution_count": 48,
      "outputs": [
        {
          "output_type": "stream",
          "name": "stdout",
          "text": [
            "7\n",
            "1 2 3 4 5 6 7\n",
            "7->6->5->4->3->2->1\n"
          ]
        }
      ]
    }
  ]
}